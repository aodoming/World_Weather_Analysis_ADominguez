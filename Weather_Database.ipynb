{
 "cells": [
  {
   "cell_type": "markdown",
   "metadata": {},
   "source": [
    "## Pt1: Get the Weather Description and Amount of Precipitation for Each City"
   ]
  },
  {
   "cell_type": "markdown",
   "metadata": {},
   "source": [
    "\n",
    "\n",
    "#### Generate a new set of 1,500 random latitudes and longitudes."
   ]
  },
  {
   "cell_type": "code",
   "execution_count": 2,
   "metadata": {},
   "outputs": [],
   "source": [
    "# Import the dependencies.\n",
    "import pandas as pd\n",
    "import matplotlib.pyplot as plt\n",
    "import numpy as np\n",
    "import citipy\n",
    "\n",
    "# Import the datetime module from the datetime library.\n",
    "from datetime import datetime"
   ]
  },
  {
   "cell_type": "code",
   "execution_count": 3,
   "metadata": {},
   "outputs": [
    {
     "data": {
      "text/plain": [
       "<zip at 0x2b3cdbefb08>"
      ]
     },
     "execution_count": 3,
     "metadata": {},
     "output_type": "execute_result"
    }
   ],
   "source": [
    "# Create a set of random latitude and longitude combinations.\n",
    "lats = np.random.uniform(low=-70.000, high=70.000, size=1500)\n",
    "lngs = np.random.uniform(low=-140.000, high=140.000, size=1500)\n",
    "lat_lngs = zip(lats, lngs)\n",
    "lat_lngs "
   ]
  },
  {
   "cell_type": "markdown",
   "metadata": {},
   "source": [
    "#### Get the nearest city using the citipy module."
   ]
  },
  {
   "cell_type": "code",
   "execution_count": 4,
   "metadata": {},
   "outputs": [],
   "source": [
    "# Use the citipy module to determine city based on latitude and longitude.\n",
    "from citipy import citipy"
   ]
  },
  {
   "cell_type": "code",
   "execution_count": 5,
   "metadata": {},
   "outputs": [
    {
     "data": {
      "text/plain": [
       "741"
      ]
     },
     "execution_count": 5,
     "metadata": {},
     "output_type": "execute_result"
    }
   ],
   "source": [
    "# Create a list for holding the cities.\n",
    "cities = []\n",
    "# Identify the nearest city for each latitude and longitude combination.\n",
    "for lat_lng in lat_lngs:\n",
    "    city = citipy.nearest_city(lat_lng[0], lat_lng[1]).city_name\n",
    "\n",
    "    # If the city is unique, then we will add it to the cities list.\n",
    "    if city not in cities:\n",
    "        cities.append(city)\n",
    "# Print the city count to confirm sufficient count.\n",
    "len(cities)"
   ]
  },
  {
   "cell_type": "markdown",
   "metadata": {},
   "source": [
    "#### Perform an API call with the OpenWeatherMap."
   ]
  },
  {
   "cell_type": "code",
   "execution_count": 6,
   "metadata": {},
   "outputs": [],
   "source": [
    "# Import the requests library.\n",
    "import requests\n",
    "\n",
    "# Import the API key.\n",
    "from config import weather_api_keys"
   ]
  },
  {
   "cell_type": "code",
   "execution_count": 7,
   "metadata": {},
   "outputs": [
    {
     "name": "stdout",
     "output_type": "stream",
     "text": [
      "http://api.openweathermap.org/data/2.5/weather?units=Imperial&APPID=8ddc114b26221886571a6d9338b01791\n"
     ]
    }
   ],
   "source": [
    "# Starting URL for Weather Map API Call.\n",
    "url = \"http://api.openweathermap.org/data/2.5/weather?units=Imperial&APPID=\" + weather_api_keys\n",
    "print(url)"
   ]
  },
  {
   "cell_type": "code",
   "execution_count": 8,
   "metadata": {},
   "outputs": [
    {
     "name": "stdout",
     "output_type": "stream",
     "text": [
      "http://api.openweathermap.org/data/2.5/weather?units=Imperial&APPID=8ddc114b26221886571a6d9338b01791&q=San Francisco\n"
     ]
    }
   ],
   "source": [
    "# Create an endpoint URL for a city.\n",
    "city_url = url + \"&q=\" + \"San Francisco\"\n",
    "print(city_url)"
   ]
  },
  {
   "cell_type": "markdown",
   "metadata": {},
   "source": [
    "\n",
    "#### Make a Request for Data to an API"
   ]
  },
  {
   "cell_type": "code",
   "execution_count": 9,
   "metadata": {},
   "outputs": [
    {
     "data": {
      "text/plain": [
       "<Response [200]>"
      ]
     },
     "execution_count": 9,
     "metadata": {},
     "output_type": "execute_result"
    }
   ],
   "source": [
    "# Create an endpoint URL for a city.\n",
    "city_url = url + \"&q=\" + \"San Francisco\"\n",
    "city_weather = requests.get(city_url)\n",
    "city_weather"
   ]
  },
  {
   "cell_type": "code",
   "execution_count": 10,
   "metadata": {},
   "outputs": [
    {
     "data": {
      "text/plain": [
       "200"
      ]
     },
     "execution_count": 10,
     "metadata": {},
     "output_type": "execute_result"
    }
   ],
   "source": [
    "# Make a 'Get' request for the city weather. Use the get() HTTP method \n",
    "city_weather.status_code"
   ]
  },
  {
   "cell_type": "code",
   "execution_count": 11,
   "metadata": {},
   "outputs": [
    {
     "data": {
      "text/plain": [
       "{'coord': {'lon': -76.88, 'lat': 1.17},\n",
       " 'weather': [{'id': 521,\n",
       "   'main': 'Rain',\n",
       "   'description': 'shower rain',\n",
       "   'icon': '09n'}],\n",
       " 'base': 'stations',\n",
       " 'main': {'temp': 66.2,\n",
       "  'pressure': 1017,\n",
       "  'humidity': 88,\n",
       "  'temp_min': 66.2,\n",
       "  'temp_max': 66.2},\n",
       " 'visibility': 10000,\n",
       " 'wind': {'speed': 4.7, 'deg': 20},\n",
       " 'clouds': {'all': 75},\n",
       " 'dt': 1573342234,\n",
       " 'sys': {'type': 1,\n",
       "  'id': 8592,\n",
       "  'country': 'CO',\n",
       "  'sunrise': 1573296559,\n",
       "  'sunset': 1573340005},\n",
       " 'timezone': -18000,\n",
       " 'id': 3669881,\n",
       " 'name': 'San Francisco',\n",
       " 'cod': 200}"
      ]
     },
     "execution_count": 11,
     "metadata": {},
     "output_type": "execute_result"
    }
   ],
   "source": [
    "# Get the JSON format of the request; Get data from a response    \n",
    "city_weather.json()"
   ]
  },
  {
   "cell_type": "code",
   "execution_count": 12,
   "metadata": {},
   "outputs": [],
   "source": [
    "# Get information from the JSON formatted data.\n",
    "San_Francisco_data = city_weather.json()"
   ]
  },
  {
   "cell_type": "code",
   "execution_count": 13,
   "metadata": {},
   "outputs": [
    {
     "name": "stdout",
     "output_type": "stream",
     "text": [
      "1.17 -76.88 66.2 88 75 4.7 shower rain\n"
     ]
    }
   ],
   "source": [
    "# Retrieve data: Latitude and longitude, Maximum temperature, Percent humidity, Percent cloudiness, Wind speed, \n",
    "# Weather description(e.g.clouds, fog, light rain, clear sky)\n",
    "\n",
    "lat = San_Francisco_data[\"coord\"][\"lat\"]\n",
    "lng = San_Francisco_data[\"coord\"][\"lon\"]\n",
    "max_temp = San_Francisco_data[\"main\"][\"temp_max\"]\n",
    "humidity = San_Francisco_data[\"main\"][\"humidity\"]\n",
    "clouds = San_Francisco_data[\"clouds\"][\"all\"]\n",
    "wind = San_Francisco_data[\"wind\"][\"speed\"]\n",
    "weather_description = San_Francisco_data['weather'][0]['description']\n",
    "#rain_inches = San_Francisco_data['rain']['3h']\n",
    "#snow_inches = San_Francisco_data['snow']['3h']\n",
    "print(lat, lng, max_temp, humidity, clouds, wind, weather_description) #rain_inches, snow_inches)"
   ]
  },
  {
   "cell_type": "markdown",
   "metadata": {},
   "source": [
    "\n",
    "#### Handle Request Errors\n",
    "\n",
    "###### Evaluate whether the status code is equal to 200 and is therefore a valid response"
   ]
  },
  {
   "cell_type": "code",
   "execution_count": 14,
   "metadata": {},
   "outputs": [
    {
     "name": "stdout",
     "output_type": "stream",
     "text": [
      "City Weather found.\n",
      "http://api.openweathermap.org/data/2.5/weather?units=Imperial&APPID=8ddc114b26221886571a6d9338b01791&q=San Francisco\n"
     ]
    }
   ],
   "source": [
    "# Create an endpoint URL for a city.\n",
    "city_url = url + \"&q=\" + \"San Francisco\"\n",
    "city_weather = requests.get(city_url)\n",
    "if city_weather.status_code == 200:\n",
    "    print(f\"City Weather found.\")\n",
    "else:\n",
    "    print(f\"City weather not found.\")\n",
    "    \n",
    "print(city_url)"
   ]
  },
  {
   "cell_type": "markdown",
   "metadata": {},
   "source": [
    "\n",
    "#### Get the amount of rainfall in inches for the last three hours"
   ]
  },
  {
   "cell_type": "code",
   "execution_count": null,
   "metadata": {},
   "outputs": [
    {
     "name": "stdout",
     "output_type": "stream",
     "text": [
      "Beginning Data Retrieval     \n",
      "-----------------------------\n",
      "Processing Record 1 of Set 1 | kankakee\n",
      "Processing Record 2 of Set 1 | plettenberg bay\n",
      "Processing Record 3 of Set 1 | lishui\n",
      "Processing Record 4 of Set 1 | saint-philippe\n",
      "Processing Record 5 of Set 1 | baijiantan\n",
      "Processing Record 6 of Set 1 | san carlos de bariloche\n",
      "Processing Record 7 of Set 1 | khuzhir\n",
      "Processing Record 8 of Set 1 | deer lake\n",
      "Processing Record 9 of Set 1 | rikitea\n",
      "Processing Record 10 of Set 1 | westport\n",
      "Processing Record 11 of Set 1 | esperance\n",
      "Processing Record 12 of Set 1 | shymkent\n",
      "Processing Record 13 of Set 1 | umm lajj\n",
      "Processing Record 14 of Set 1 | port lincoln\n",
      "Processing Record 15 of Set 1 | flinders\n",
      "Processing Record 16 of Set 1 | cape town\n",
      "Processing Record 17 of Set 1 | iskateley\n",
      "Processing Record 18 of Set 1 | atuona\n",
      "Processing Record 19 of Set 1 | rochester\n",
      "Processing Record 20 of Set 1 | pochutla\n",
      "Processing Record 21 of Set 1 | busselton\n",
      "Processing Record 22 of Set 1 | victoria\n",
      "Processing Record 23 of Set 1 | soure\n",
      "Processing Record 24 of Set 1 | georgetown\n",
      "Processing Record 25 of Set 1 | ribeira grande\n",
      "Processing Record 26 of Set 1 | chuy\n",
      "Processing Record 27 of Set 1 | ushuaia\n",
      "Processing Record 28 of Set 1 | esmeraldas\n",
      "Processing Record 29 of Set 1 | san patricio\n",
      "Processing Record 30 of Set 1 | albany\n",
      "Processing Record 31 of Set 1 | faya\n",
      "Processing Record 32 of Set 1 | mahanoro\n",
      "Processing Record 33 of Set 1 | khandyga\n",
      "Processing Record 34 of Set 1 | assiniboia\n",
      "Processing Record 35 of Set 1 | punta arenas\n",
      "Processing Record 36 of Set 1 | puerto ayora\n",
      "Processing Record 37 of Set 1 | georgiyevka\n",
      "Processing Record 38 of Set 1 | umzimvubu\n",
      "City not found. Skipping...\n",
      "Processing Record 39 of Set 1 | tsihombe\n",
      "City not found. Skipping...\n",
      "Processing Record 40 of Set 1 | clyde river\n",
      "Processing Record 41 of Set 1 | nantucket\n",
      "Processing Record 42 of Set 1 | port alfred\n",
      "Processing Record 43 of Set 1 | attawapiskat\n",
      "City not found. Skipping...\n",
      "Processing Record 44 of Set 1 | massillon\n",
      "Processing Record 45 of Set 1 | pithoragarh\n",
      "Processing Record 46 of Set 1 | torbay\n",
      "Processing Record 47 of Set 1 | laramie\n",
      "Processing Record 48 of Set 1 | waingapu\n",
      "Processing Record 49 of Set 1 | port blair\n",
      "Processing Record 50 of Set 1 | necochea\n",
      "Processing Record 1 of Set 2 | pangnirtung\n",
      "Processing Record 2 of Set 2 | ulaangom\n",
      "Processing Record 3 of Set 2 | souillac\n",
      "Processing Record 4 of Set 2 | arraial do cabo\n",
      "Processing Record 5 of Set 2 | kheda\n",
      "Processing Record 6 of Set 2 | ponta do sol\n",
      "Processing Record 7 of Set 2 | castro\n",
      "Processing Record 8 of Set 2 | varhaug\n",
      "Processing Record 9 of Set 2 | hermanus\n",
      "Processing Record 10 of Set 2 | makurdi\n",
      "Processing Record 11 of Set 2 | pisco\n",
      "Processing Record 12 of Set 2 | sibiti\n",
      "Processing Record 13 of Set 2 | kearney\n",
      "Processing Record 14 of Set 2 | puerto ayacucho\n",
      "Processing Record 15 of Set 2 | keti bandar\n",
      "Processing Record 16 of Set 2 | cidreira\n",
      "Processing Record 17 of Set 2 | formoso do araguaia\n",
      "City not found. Skipping...\n",
      "Processing Record 18 of Set 2 | havre-saint-pierre\n",
      "Processing Record 19 of Set 2 | kristallopiyi\n",
      "City not found. Skipping...\n",
      "Processing Record 20 of Set 2 | grand gaube\n",
      "Processing Record 21 of Set 2 | mana\n",
      "Processing Record 22 of Set 2 | bathsheba\n",
      "Processing Record 23 of Set 2 | katima mulilo\n",
      "Processing Record 24 of Set 2 | jabiru\n",
      "City not found. Skipping...\n",
      "Processing Record 25 of Set 2 | bambous virieux\n",
      "Processing Record 26 of Set 2 | vestmannaeyjar\n",
      "Processing Record 27 of Set 2 | impfondo\n",
      "Processing Record 28 of Set 2 | new norfolk\n",
      "Processing Record 29 of Set 2 | airai\n",
      "Processing Record 30 of Set 2 | grindavik\n",
      "Processing Record 31 of Set 2 | governador valadares\n",
      "Processing Record 32 of Set 2 | broome\n",
      "Processing Record 33 of Set 2 | mount gambier\n",
      "Processing Record 34 of Set 2 | zhangye\n",
      "Processing Record 35 of Set 2 | carutapera\n",
      "Processing Record 36 of Set 2 | himora\n",
      "City not found. Skipping...\n",
      "Processing Record 37 of Set 2 | camana\n",
      "City not found. Skipping...\n",
      "Processing Record 38 of Set 2 | ouadda\n",
      "Processing Record 39 of Set 2 | san cristobal\n",
      "Processing Record 40 of Set 2 | ponto novo\n",
      "Processing Record 41 of Set 2 | izhevskoye\n",
      "Processing Record 42 of Set 2 | srivardhan\n",
      "Processing Record 43 of Set 2 | luderitz\n",
      "Processing Record 44 of Set 2 | tasiilaq\n",
      "Processing Record 45 of Set 2 | caravelas\n",
      "Processing Record 46 of Set 2 | inhambane\n",
      "Processing Record 47 of Set 2 | hunza\n",
      "City not found. Skipping...\n",
      "Processing Record 48 of Set 2 | ngukurr\n",
      "City not found. Skipping...\n",
      "Processing Record 49 of Set 2 | nokaneng\n",
      "Processing Record 50 of Set 2 | meyungs\n",
      "City not found. Skipping...\n",
      "Processing Record 1 of Set 3 | celestun\n",
      "Processing Record 2 of Set 3 | cordeiro\n",
      "Processing Record 3 of Set 3 | lompoc\n",
      "Processing Record 4 of Set 3 | nanortalik\n",
      "Processing Record 5 of Set 3 | repatriacion\n",
      "Processing Record 6 of Set 3 | bengkulu\n",
      "City not found. Skipping...\n",
      "Processing Record 7 of Set 3 | saint george\n",
      "Processing Record 8 of Set 3 | belyy yar\n",
      "Processing Record 9 of Set 3 | salalah\n",
      "Processing Record 10 of Set 3 | natchitoches\n",
      "Processing Record 11 of Set 3 | zatoka\n",
      "Processing Record 12 of Set 3 | athens\n",
      "Processing Record 13 of Set 3 | moose factory\n",
      "Processing Record 14 of Set 3 | plainview\n",
      "Processing Record 15 of Set 3 | paradwip\n",
      "City not found. Skipping...\n",
      "Processing Record 16 of Set 3 | gunjur\n",
      "Processing Record 17 of Set 3 | darovskoy\n",
      "Processing Record 18 of Set 3 | sorong\n",
      "Processing Record 19 of Set 3 | pamplona\n",
      "Processing Record 20 of Set 3 | oksbol\n",
      "Processing Record 21 of Set 3 | devyatka\n",
      "City not found. Skipping...\n",
      "Processing Record 22 of Set 3 | campoverde\n",
      "Processing Record 23 of Set 3 | margate\n",
      "Processing Record 24 of Set 3 | panji\n",
      "Processing Record 25 of Set 3 | jijiga\n",
      "Processing Record 26 of Set 3 | apollonia\n",
      "Processing Record 27 of Set 3 | kualakapuas\n",
      "Processing Record 28 of Set 3 | marzuq\n",
      "Processing Record 29 of Set 3 | freeport\n",
      "Processing Record 30 of Set 3 | jamestown\n",
      "Processing Record 31 of Set 3 | vila velha\n",
      "Processing Record 32 of Set 3 | east london\n",
      "Processing Record 33 of Set 3 | qaqortoq\n",
      "Processing Record 34 of Set 3 | komsomolets\n",
      "Processing Record 35 of Set 3 | grafton\n",
      "Processing Record 36 of Set 3 | corpus christi\n",
      "Processing Record 37 of Set 3 | yellowknife\n",
      "Processing Record 38 of Set 3 | lebu\n",
      "Processing Record 39 of Set 3 | rio gallegos\n",
      "Processing Record 40 of Set 3 | carnarvon\n",
      "Processing Record 41 of Set 3 | segovia\n",
      "Processing Record 42 of Set 3 | adrar\n",
      "Processing Record 43 of Set 3 | khandbari\n",
      "Processing Record 44 of Set 3 | mahebourg\n",
      "Processing Record 45 of Set 3 | yol\n",
      "Processing Record 46 of Set 3 | sturgis\n",
      "Processing Record 47 of Set 3 | okandja\n",
      "City not found. Skipping...\n",
      "Processing Record 48 of Set 3 | saldanha\n",
      "Processing Record 49 of Set 3 | palabuhanratu\n",
      "City not found. Skipping...\n",
      "Processing Record 50 of Set 3 | trelew\n",
      "Processing Record 1 of Set 4 | port hardy\n",
      "Processing Record 2 of Set 4 | hithadhoo\n",
      "Processing Record 3 of Set 4 | jiddah\n",
      "City not found. Skipping...\n",
      "Processing Record 4 of Set 4 | constitucion\n",
      "Processing Record 5 of Set 4 | abalak\n",
      "Processing Record 6 of Set 4 | san joaquin\n",
      "Processing Record 7 of Set 4 | thompson\n",
      "Processing Record 8 of Set 4 | taolanaro\n",
      "City not found. Skipping...\n",
      "Processing Record 9 of Set 4 | cravo norte\n",
      "Processing Record 10 of Set 4 | kidal\n",
      "Processing Record 11 of Set 4 | tabuk\n",
      "Processing Record 12 of Set 4 | jacareacanga\n",
      "Processing Record 13 of Set 4 | livingston\n",
      "Processing Record 14 of Set 4 | peniche\n",
      "Processing Record 15 of Set 4 | mattru\n",
      "Processing Record 16 of Set 4 | kastamonu\n",
      "Processing Record 17 of Set 4 | kitimat\n",
      "Processing Record 18 of Set 4 | la ronge\n",
      "Processing Record 19 of Set 4 | ambilobe\n",
      "Processing Record 20 of Set 4 | cam ranh\n",
      "Processing Record 21 of Set 4 | rockingham\n",
      "Processing Record 22 of Set 4 | gazojak\n",
      "Processing Record 23 of Set 4 | zhanaozen\n",
      "Processing Record 24 of Set 4 | nyamuswa\n",
      "Processing Record 25 of Set 4 | iracoubo\n",
      "Processing Record 26 of Set 4 | dingzhou\n",
      "Processing Record 27 of Set 4 | ornskoldsvik\n",
      "Processing Record 28 of Set 4 | elliot lake\n",
      "Processing Record 29 of Set 4 | kushmurun\n",
      "City not found. Skipping...\n",
      "Processing Record 30 of Set 4 | shenzhen\n",
      "Processing Record 31 of Set 4 | dwarka\n",
      "Processing Record 32 of Set 4 | tabriz\n",
      "Processing Record 33 of Set 4 | lazaro cardenas\n",
      "Processing Record 34 of Set 4 | hamilton\n"
     ]
    },
    {
     "name": "stdout",
     "output_type": "stream",
     "text": [
      "Processing Record 35 of Set 4 | abrau-dyurso\n",
      "Processing Record 36 of Set 4 | casablanca\n",
      "Processing Record 37 of Set 4 | liuzhou\n",
      "Processing Record 38 of Set 4 | saint-joseph\n",
      "Processing Record 39 of Set 4 | san quintin\n",
      "Processing Record 40 of Set 4 | lagoa\n",
      "Processing Record 41 of Set 4 | bagan\n",
      "Processing Record 42 of Set 4 | mar del plata\n",
      "Processing Record 43 of Set 4 | louisbourg\n",
      "City not found. Skipping...\n",
      "Processing Record 44 of Set 4 | agutaya\n",
      "Processing Record 45 of Set 4 | nisia floresta\n",
      "Processing Record 46 of Set 4 | eureka\n",
      "Processing Record 47 of Set 4 | caxito\n",
      "Processing Record 48 of Set 4 | vila franca do campo\n",
      "Processing Record 49 of Set 4 | blagoyevo\n",
      "Processing Record 50 of Set 4 | tabou\n",
      "Processing Record 1 of Set 5 | atambua\n",
      "Processing Record 2 of Set 5 | babu\n",
      "Processing Record 3 of Set 5 | hay river\n",
      "Processing Record 4 of Set 5 | acari\n",
      "Processing Record 5 of Set 5 | houma\n",
      "Processing Record 6 of Set 5 | los llanos de aridane\n",
      "Processing Record 7 of Set 5 | coquimbo\n",
      "Processing Record 8 of Set 5 | sharjah\n",
      "Processing Record 9 of Set 5 | marovoay\n",
      "Processing Record 10 of Set 5 | grand river south east\n",
      "City not found. Skipping...\n",
      "Processing Record 11 of Set 5 | tarauaca\n",
      "Processing Record 12 of Set 5 | gat\n",
      "Processing Record 13 of Set 5 | san andres\n",
      "Processing Record 14 of Set 5 | cabo san lucas\n",
      "Processing Record 15 of Set 5 | jiwani\n",
      "Processing Record 16 of Set 5 | coihaique\n",
      "Processing Record 17 of Set 5 | acapulco\n",
      "Processing Record 18 of Set 5 | sistranda\n",
      "Processing Record 19 of Set 5 | triggiano\n",
      "Processing Record 20 of Set 5 | tura\n",
      "Processing Record 21 of Set 5 | khash\n",
      "Processing Record 22 of Set 5 | ascona\n",
      "Processing Record 23 of Set 5 | kontagora\n",
      "Processing Record 24 of Set 5 | kohlu\n",
      "Processing Record 25 of Set 5 | sinnamary\n",
      "Processing Record 26 of Set 5 | morondava\n",
      "Processing Record 27 of Set 5 | meadow lake\n",
      "Processing Record 28 of Set 5 | oistins\n",
      "Processing Record 29 of Set 5 | gravelbourg\n",
      "Processing Record 30 of Set 5 | pavilosta\n",
      "Processing Record 31 of Set 5 | kisoro\n",
      "Processing Record 32 of Set 5 | goderich\n",
      "Processing Record 33 of Set 5 | samur\n",
      "Processing Record 34 of Set 5 | kishi\n",
      "Processing Record 35 of Set 5 | praya\n",
      "Processing Record 36 of Set 5 | sunam\n",
      "Processing Record 37 of Set 5 | san francisco\n",
      "Processing Record 38 of Set 5 | portland\n",
      "Processing Record 39 of Set 5 | ginir\n",
      "Processing Record 40 of Set 5 | sedro-woolley\n",
      "Processing Record 41 of Set 5 | north bend\n",
      "Processing Record 42 of Set 5 | chaochou\n",
      "City not found. Skipping...\n",
      "Processing Record 43 of Set 5 | el prat de llobregat\n",
      "Processing Record 44 of Set 5 | verkh-usugli\n",
      "Processing Record 45 of Set 5 | guerrero negro\n",
      "Processing Record 46 of Set 5 | evans\n",
      "Processing Record 47 of Set 5 | tuktoyaktuk\n",
      "Processing Record 48 of Set 5 | ntungamo\n",
      "Processing Record 49 of Set 5 | tanete\n",
      "Processing Record 50 of Set 5 | port hawkesbury\n",
      "Processing Record 1 of Set 6 | selcuk\n",
      "Processing Record 2 of Set 6 | road town\n",
      "Processing Record 3 of Set 6 | bredasdorp\n",
      "Processing Record 4 of Set 6 | saint-michel-des-saints\n",
      "Processing Record 5 of Set 6 | koboldo\n",
      "City not found. Skipping...\n",
      "Processing Record 6 of Set 6 | ilulissat\n",
      "Processing Record 7 of Set 6 | naze\n",
      "Processing Record 8 of Set 6 | kilakarai\n",
      "City not found. Skipping...\n",
      "Processing Record 9 of Set 6 | henties bay\n",
      "Processing Record 10 of Set 6 | fatehpur\n",
      "Processing Record 11 of Set 6 | iqaluit\n",
      "Processing Record 12 of Set 6 | velikodvorskiy\n",
      "Processing Record 13 of Set 6 | akyab\n",
      "City not found. Skipping...\n",
      "Processing Record 14 of Set 6 | igarka\n",
      "Processing Record 15 of Set 6 | lixourion\n",
      "Processing Record 16 of Set 6 | teykovo\n",
      "Processing Record 17 of Set 6 | cayenne\n",
      "Processing Record 18 of Set 6 | strezhevoy\n",
      "Processing Record 19 of Set 6 | quang ngai\n",
      "Processing Record 20 of Set 6 | namibe\n",
      "Processing Record 21 of Set 6 | syumsi\n",
      "Processing Record 22 of Set 6 | tutoia\n",
      "Processing Record 23 of Set 6 | capaci\n",
      "Processing Record 24 of Set 6 | cruzeiro do sul\n",
      "Processing Record 25 of Set 6 | puerto gaitan\n",
      "City not found. Skipping...\n",
      "Processing Record 26 of Set 6 | manuk mangkaw\n",
      "Processing Record 27 of Set 6 | dobromir\n",
      "Processing Record 28 of Set 6 | kavaratti\n",
      "Processing Record 29 of Set 6 | saskylakh\n",
      "Processing Record 30 of Set 6 | bababe\n",
      "City not found. Skipping...\n",
      "Processing Record 31 of Set 6 | lac du bonnet\n",
      "Processing Record 32 of Set 6 | urucara\n",
      "Processing Record 33 of Set 6 | karratha\n",
      "Processing Record 34 of Set 6 | mabaruma\n",
      "Processing Record 35 of Set 6 | chardara\n",
      "City not found. Skipping...\n",
      "Processing Record 36 of Set 6 | atar\n",
      "Processing Record 37 of Set 6 | talnakh\n",
      "Processing Record 38 of Set 6 | tazovskiy\n",
      "Processing Record 39 of Set 6 | paamiut\n",
      "Processing Record 40 of Set 6 | sorsk\n",
      "Processing Record 41 of Set 6 | omboue\n",
      "Processing Record 42 of Set 6 | soe\n",
      "Processing Record 43 of Set 6 | fort-shevchenko\n",
      "Processing Record 44 of Set 6 | melita\n",
      "Processing Record 45 of Set 6 | pinyug\n",
      "Processing Record 46 of Set 6 | norman wells\n",
      "Processing Record 47 of Set 6 | kemijarvi\n",
      "City not found. Skipping...\n",
      "Processing Record 48 of Set 6 | alenquer\n",
      "Processing Record 49 of Set 6 | nuevo progreso\n",
      "Processing Record 50 of Set 6 | catole do rocha\n",
      "Processing Record 1 of Set 7 | santa rosa\n",
      "Processing Record 2 of Set 7 | saint-francois\n",
      "Processing Record 3 of Set 7 | bima\n",
      "Processing Record 4 of Set 7 | rawson\n",
      "Processing Record 5 of Set 7 | kruisfontein\n",
      "Processing Record 6 of Set 7 | boa vista\n",
      "Processing Record 7 of Set 7 | fort nelson\n",
      "Processing Record 8 of Set 7 | krasnoborsk\n",
      "Processing Record 9 of Set 7 | bocas del toro\n",
      "Processing Record 10 of Set 7 | camacha\n",
      "Processing Record 11 of Set 7 | pemberton\n",
      "Processing Record 12 of Set 7 | romitan\n",
      "Processing Record 13 of Set 7 | pitimbu\n",
      "Processing Record 14 of Set 7 | la rioja\n",
      "Processing Record 15 of Set 7 | leh\n",
      "Processing Record 16 of Set 7 | carlsbad\n",
      "Processing Record 17 of Set 7 | genhe\n",
      "Processing Record 18 of Set 7 | helena\n",
      "Processing Record 19 of Set 7 | beloha\n",
      "Processing Record 20 of Set 7 | sandpoint\n",
      "Processing Record 21 of Set 7 | ixtapa\n",
      "Processing Record 22 of Set 7 | fengrun\n",
      "Processing Record 23 of Set 7 | ferry pass\n",
      "Processing Record 24 of Set 7 | omaruru\n",
      "Processing Record 25 of Set 7 | san policarpo\n",
      "Processing Record 26 of Set 7 | mindelo\n",
      "Processing Record 27 of Set 7 | codrington\n",
      "Processing Record 28 of Set 7 | ranong\n",
      "Processing Record 29 of Set 7 | mumford\n",
      "Processing Record 30 of Set 7 | gamba\n",
      "Processing Record 31 of Set 7 | klaksvik\n",
      "Processing Record 32 of Set 7 | jumla\n",
      "Processing Record 33 of Set 7 | polunochnoye\n",
      "Processing Record 34 of Set 7 | la ligua\n",
      "Processing Record 35 of Set 7 | chapais\n",
      "Processing Record 36 of Set 7 | correntina\n",
      "Processing Record 37 of Set 7 | bonthe\n",
      "Processing Record 38 of Set 7 | flagstaff\n",
      "Processing Record 39 of Set 7 | lerwick\n",
      "Processing Record 40 of Set 7 | whitehorse\n",
      "Processing Record 41 of Set 7 | buchanan\n",
      "Processing Record 42 of Set 7 | kohima\n",
      "Processing Record 43 of Set 7 | progreso\n",
      "Processing Record 44 of Set 7 | walvis bay\n",
      "Processing Record 45 of Set 7 | sao filipe\n",
      "Processing Record 46 of Set 7 | sena madureira\n",
      "Processing Record 47 of Set 7 | shingu\n",
      "Processing Record 48 of Set 7 | bestobe\n",
      "Processing Record 49 of Set 7 | konza\n",
      "Processing Record 50 of Set 7 | nanzhou\n",
      "Processing Record 1 of Set 8 | qarayeri\n",
      "Processing Record 2 of Set 8 | saint anthony\n",
      "Processing Record 3 of Set 8 | san juan\n",
      "Processing Record 4 of Set 8 | sorvag\n",
      "City not found. Skipping...\n",
      "Processing Record 5 of Set 8 | kamenka\n",
      "Processing Record 6 of Set 8 | sinop\n",
      "Processing Record 7 of Set 8 | raton\n",
      "Processing Record 8 of Set 8 | chicama\n",
      "Processing Record 9 of Set 8 | bratsk\n",
      "Processing Record 10 of Set 8 | alice springs\n",
      "Processing Record 11 of Set 8 | craig\n",
      "Processing Record 12 of Set 8 | stantsionno-oyashinskiy\n",
      "Processing Record 13 of Set 8 | huarmey\n",
      "Processing Record 14 of Set 8 | santarem\n",
      "City not found. Skipping...\n",
      "Processing Record 15 of Set 8 | gejiu\n",
      "Processing Record 16 of Set 8 | sechura\n",
      "Processing Record 17 of Set 8 | tuy hoa\n",
      "Processing Record 18 of Set 8 | kalangala\n",
      "Processing Record 19 of Set 8 | concordia\n",
      "Processing Record 20 of Set 8 | silver city\n",
      "Processing Record 21 of Set 8 | bezhta\n",
      "Processing Record 22 of Set 8 | strelka\n",
      "Processing Record 23 of Set 8 | toliary\n",
      "City not found. Skipping...\n",
      "Processing Record 24 of Set 8 | katobu\n",
      "Processing Record 25 of Set 8 | erenhot\n"
     ]
    },
    {
     "name": "stdout",
     "output_type": "stream",
     "text": [
      "Processing Record 26 of Set 8 | lumphat\n",
      "Processing Record 27 of Set 8 | hami\n",
      "Processing Record 28 of Set 8 | padang\n",
      "Processing Record 29 of Set 8 | teguldet\n",
      "Processing Record 30 of Set 8 | lastoursville\n",
      "Processing Record 31 of Set 8 | gigmoto\n",
      "Processing Record 32 of Set 8 | luwuk\n",
      "Processing Record 33 of Set 8 | khani\n",
      "Processing Record 34 of Set 8 | tomatlan\n",
      "Processing Record 35 of Set 8 | fergus falls\n",
      "Processing Record 36 of Set 8 | burica\n",
      "City not found. Skipping...\n",
      "Processing Record 37 of Set 8 | zhigansk\n",
      "Processing Record 38 of Set 8 | kulhudhuffushi\n",
      "Processing Record 39 of Set 8 | linjiang\n",
      "Processing Record 40 of Set 8 | nevel\n",
      "Processing Record 41 of Set 8 | sao geraldo do araguaia\n",
      "Processing Record 42 of Set 8 | kangaatsiaq\n",
      "Processing Record 43 of Set 8 | denpasar\n",
      "Processing Record 44 of Set 8 | vredendal\n",
      "Processing Record 45 of Set 8 | asheville\n",
      "Processing Record 46 of Set 8 | danville\n",
      "Processing Record 47 of Set 8 | port elizabeth\n",
      "Processing Record 48 of Set 8 | xining\n",
      "Processing Record 49 of Set 8 | manggar\n",
      "Processing Record 50 of Set 8 | manado\n",
      "Processing Record 1 of Set 9 | sibu\n",
      "Processing Record 2 of Set 9 | nampula\n",
      "Processing Record 3 of Set 9 | toamasina\n",
      "Processing Record 4 of Set 9 | roald\n",
      "Processing Record 5 of Set 9 | chifeng\n",
      "Processing Record 6 of Set 9 | cheuskiny\n",
      "City not found. Skipping...\n",
      "Processing Record 7 of Set 9 | rio grande\n",
      "Processing Record 8 of Set 9 | candido mendes\n"
     ]
    }
   ],
   "source": [
    "# Create an empty list to hold the weather data.\n",
    "city_data = []\n",
    "# Print the beginning of the logging.\n",
    "print(\"Beginning Data Retrieval     \")\n",
    "print(\"-----------------------------\")\n",
    "\n",
    "# Create counters.\n",
    "record_count = 1\n",
    "set_count = 1\n",
    "\n",
    "for i, city in enumerate(cities):\n",
    "\n",
    "    # Group cities in sets of 50 for logging purposes.\n",
    "    if (i % 50 == 0 and i >= 50):\n",
    "        set_count += 1\n",
    "        record_count = 1       \n",
    "    \n",
    "    # Create endpoint URL with each city.\n",
    "    city_url = url + \"&q=\" + city\n",
    "\n",
    "    # Log the URL, record, and set numbers and the city.\n",
    "    print(f\"Processing Record {record_count} of Set {set_count} | {city}\")\n",
    "    # Add 1 to the record count.\n",
    "    record_count += 1\n",
    "    \n",
    "    try:\n",
    "        # Parse the JSON and retrieve data.\n",
    "        city_weather = requests.get(city_url).json()\n",
    "        # Parse out the needed data.\n",
    "        city_lat = city_weather[\"coord\"][\"lat\"]\n",
    "        city_lng = city_weather[\"coord\"][\"lon\"]\n",
    "        city_max_temp = city_weather[\"main\"][\"temp_max\"]\n",
    "        city_humidity = city_weather[\"main\"][\"humidity\"]\n",
    "        city_clouds = city_weather[\"clouds\"][\"all\"]\n",
    "        city_wind = city_weather[\"wind\"][\"speed\"]\n",
    "        city_country = city_weather[\"sys\"][\"country\"]\n",
    "        city_weather_description = city_weather['weather'][0]['description']\n",
    "        \n",
    "        \n",
    "    # Using a try-except block, if it is raining,snowing get the amount of rainfall or snow in inches for the last three hours. \n",
    "    # If it is not raining, add 0 inches for the city.\n",
    "        \n",
    "        try:\n",
    "            city_rain_inches = city_weather['rain']['3h']\n",
    "        except(KeyError):\n",
    "            city_rain_inches = 0\n",
    "        try:\n",
    "            city_snow_inches = city_weather['snow']['3h']\n",
    "        except(KeyError):\n",
    "            city_snow_inches = 0\n",
    "            \n",
    "            \n",
    "         # Convert the date to ISO standard.\n",
    "        city_date = datetime.utcfromtimestamp(city_weather[\"dt\"]).strftime('%Y-%m-%d %H:%M:%S')\n",
    "        # Append the city information into city_data list.\n",
    "        city_data.append({\"City\": city.title(),\n",
    "                          \"Lat\": city_lat,\n",
    "                          \"Lng\": city_lng,\n",
    "                          \"Max Temp\": city_max_temp,\n",
    "                          \"Humidity\": city_humidity,\n",
    "                          \"Cloudiness\": city_clouds,\n",
    "                          \"Wind Speed\": city_wind,\n",
    "                          \"Country\": city_country,\n",
    "                          \"Weather Description\":city_weather_description,\n",
    "                          \"Rain Inches(last 3hrs)\":city_rain_inches,\n",
    "                          \"Snow Inches(last 3hrs)\":city_snow_inches,\n",
    "                          \"Date\": city_date})\n",
    "\n",
    "# If an error is experienced, skip the city.\n",
    "    except:\n",
    "        print(\"City not found. Skipping...\")\n",
    "        pass\n",
    "\n",
    "# Indicate that Data Loading is complete.\n",
    "print(\"-----------------------------\")\n",
    "print(\"Data Retrieval Complete      \")\n",
    "print(\"-----------------------------\")\n"
   ]
  },
  {
   "cell_type": "markdown",
   "metadata": {},
   "source": [
    "#### Add the data to a new DataFrame."
   ]
  },
  {
   "cell_type": "code",
   "execution_count": null,
   "metadata": {},
   "outputs": [],
   "source": [
    "# Convert a list of dictionaries to a Pandas DataFrame using df = pd.DataFrame(list with dictionaries).\n",
    "# Convert the array of dictionaries to a Pandas DataFrame.\n",
    "weather_database_df = pd.DataFrame(city_data)\n",
    "weather_database_df.head(10)"
   ]
  },
  {
   "cell_type": "code",
   "execution_count": null,
   "metadata": {},
   "outputs": [],
   "source": [
    "# Reorder the columns as City, Country, Date, Lat, Lng, Max Temp, Humidity, Cloudiness, and Wind Speed, Weather Description,\n",
    "# Rain inches(last 3hrs), Snow inches(last 3 hrs)\n",
    "\n",
    "new_column_order = ['City', 'Country', 'Date', 'Lat', 'Lng', 'Max Temp', 'Humidity', 'Cloudiness', 'Wind Speed', \n",
    "                    'Weather Description','Rain Inches(last 3hrs)', 'Snow Inches(last 3hrs)']\n",
    "\n",
    "# Assign a new or the same DataFrame with new column order: df = df[new_column_order]\n",
    "weather_database_df = weather_database_df[new_column_order]\n",
    "weather_database_df.head(15)"
   ]
  },
  {
   "cell_type": "code",
   "execution_count": null,
   "metadata": {},
   "outputs": [],
   "source": [
    "# Save the new DF as a CSV file or Create the output file (CSV).\n",
    "\n",
    "output_data_file = \"weather_data/WeatherPy_challenge.csv\"\n",
    "# Export the City_Data into a CSV.\n",
    "weather_database_df.to_csv(output_data_file, index_label=\"City_ID\")"
   ]
  },
  {
   "cell_type": "code",
   "execution_count": null,
   "metadata": {},
   "outputs": [],
   "source": [
    "#Answer this question using Pandas methods: How many cities have recorded snow?\n",
    "snow_record= weather_database_df.loc[weather_database_df[\"Snow Inches(last 3hrs)\"] > 0]\n",
    "len(snow_record)"
   ]
  },
  {
   "cell_type": "code",
   "execution_count": null,
   "metadata": {},
   "outputs": [],
   "source": [
    "rain_record= weather_database_df.loc[weather_database_df[\"Rain Inches(last 3hrs)\"] > 0]\n",
    "len(rain_record)"
   ]
  },
  {
   "cell_type": "code",
   "execution_count": null,
   "metadata": {},
   "outputs": [],
   "source": [
    "snow_record"
   ]
  },
  {
   "cell_type": "code",
   "execution_count": null,
   "metadata": {},
   "outputs": [],
   "source": [
    "rain_record"
   ]
  },
  {
   "cell_type": "code",
   "execution_count": null,
   "metadata": {},
   "outputs": [],
   "source": []
  }
 ],
 "metadata": {
  "kernelspec": {
   "display_name": "PythonData",
   "language": "python",
   "name": "pythondata"
  },
  "language_info": {
   "codemirror_mode": {
    "name": "ipython",
    "version": 3
   },
   "file_extension": ".py",
   "mimetype": "text/x-python",
   "name": "python",
   "nbconvert_exporter": "python",
   "pygments_lexer": "ipython3",
   "version": "3.6.9"
  }
 },
 "nbformat": 4,
 "nbformat_minor": 2
}
