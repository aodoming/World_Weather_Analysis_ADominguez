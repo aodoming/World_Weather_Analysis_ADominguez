{
 "cells": [
  {
   "cell_type": "markdown",
   "metadata": {},
   "source": [
    "## Pt3: Create a Travel Itinerary with a Corresponding Map"
   ]
  },
  {
   "cell_type": "code",
   "execution_count": 14,
   "metadata": {},
   "outputs": [],
   "source": [
    "#Import the dependencies.\n",
    "import pandas as pd         # to read the csv file and create the locations & measurements from the DF\n",
    "import gmaps                # to create heatmaps and locations map\n",
    "import requests             # to make a request to the Google Places JSON file\n",
    "#Import the API key.\n",
    "from config import g_key    # to create heatmaps and locations map\n",
    "\n",
    "                            # Our dependencies will allow us to get hotel locations from the latitude and longitude of the city\n",
    "import csv\n",
    "import os\n",
    "#import gmaps.datasets "
   ]
  },
  {
   "cell_type": "code",
   "execution_count": 15,
   "metadata": {},
   "outputs": [
    {
     "name": "stdout",
     "output_type": "stream",
     "text": [
      "<_io.TextIOWrapper name='weather_data\\\\WeatherPy_vacation.csv' mode='r' encoding='cp1252'>\n"
     ]
    }
   ],
   "source": [
    "file_to_load = os.path.join(\"weather_data\", \"WeatherPy_vacation.csv\")\n",
    "#file_to_load = \"weather_data/WeatherPy_vacation.csv\"\n",
    "with open(file_to_load) as vacation_itinerary:\n",
    "\n",
    "    # Print the file object.\n",
    "     print(vacation_itinerary)"
   ]
  },
  {
   "cell_type": "code",
   "execution_count": 16,
   "metadata": {},
   "outputs": [
    {
     "data": {
      "text/html": [
       "<div>\n",
       "<style scoped>\n",
       "    .dataframe tbody tr th:only-of-type {\n",
       "        vertical-align: middle;\n",
       "    }\n",
       "\n",
       "    .dataframe tbody tr th {\n",
       "        vertical-align: top;\n",
       "    }\n",
       "\n",
       "    .dataframe thead th {\n",
       "        text-align: right;\n",
       "    }\n",
       "</style>\n",
       "<table border=\"1\" class=\"dataframe\">\n",
       "  <thead>\n",
       "    <tr style=\"text-align: right;\">\n",
       "      <th></th>\n",
       "      <th>City_ID</th>\n",
       "      <th>City</th>\n",
       "      <th>Country</th>\n",
       "      <th>Max Temp</th>\n",
       "      <th>Weather Description</th>\n",
       "      <th>Lat</th>\n",
       "      <th>Lng</th>\n",
       "      <th>Hotel Name</th>\n",
       "    </tr>\n",
       "  </thead>\n",
       "  <tbody>\n",
       "    <tr>\n",
       "      <td>0</td>\n",
       "      <td>34</td>\n",
       "      <td>Caarapo</td>\n",
       "      <td>BR</td>\n",
       "      <td>71.38</td>\n",
       "      <td>light rain</td>\n",
       "      <td>-22.63</td>\n",
       "      <td>-54.82</td>\n",
       "      <td>Hotel Pousada Quinta do Sul</td>\n",
       "    </tr>\n",
       "    <tr>\n",
       "      <td>1</td>\n",
       "      <td>108</td>\n",
       "      <td>Arraial Do Cabo</td>\n",
       "      <td>BR</td>\n",
       "      <td>72.70</td>\n",
       "      <td>light rain</td>\n",
       "      <td>-22.97</td>\n",
       "      <td>-42.02</td>\n",
       "      <td>Pousada Porto Praia</td>\n",
       "    </tr>\n",
       "    <tr>\n",
       "      <td>2</td>\n",
       "      <td>128</td>\n",
       "      <td>Klaksvik</td>\n",
       "      <td>FO</td>\n",
       "      <td>39.20</td>\n",
       "      <td>light rain</td>\n",
       "      <td>62.23</td>\n",
       "      <td>-6.59</td>\n",
       "      <td>Airbnb rooms</td>\n",
       "    </tr>\n",
       "    <tr>\n",
       "      <td>3</td>\n",
       "      <td>146</td>\n",
       "      <td>Myitkyina</td>\n",
       "      <td>MM</td>\n",
       "      <td>65.59</td>\n",
       "      <td>light rain</td>\n",
       "      <td>25.38</td>\n",
       "      <td>97.40</td>\n",
       "      <td>Shwe Phyu Hotel</td>\n",
       "    </tr>\n",
       "    <tr>\n",
       "      <td>4</td>\n",
       "      <td>149</td>\n",
       "      <td>Fuerte Olimpo</td>\n",
       "      <td>BR</td>\n",
       "      <td>74.97</td>\n",
       "      <td>light rain</td>\n",
       "      <td>-21.04</td>\n",
       "      <td>-57.87</td>\n",
       "      <td>Hotel Fuerte Olimpo</td>\n",
       "    </tr>\n",
       "    <tr>\n",
       "      <td>5</td>\n",
       "      <td>156</td>\n",
       "      <td>Constitucion</td>\n",
       "      <td>MX</td>\n",
       "      <td>62.01</td>\n",
       "      <td>light rain</td>\n",
       "      <td>23.99</td>\n",
       "      <td>-104.67</td>\n",
       "      <td>Hotel Posada San Agustin</td>\n",
       "    </tr>\n",
       "    <tr>\n",
       "      <td>6</td>\n",
       "      <td>166</td>\n",
       "      <td>Vestmannaeyjar</td>\n",
       "      <td>IS</td>\n",
       "      <td>42.24</td>\n",
       "      <td>light rain</td>\n",
       "      <td>63.44</td>\n",
       "      <td>-20.27</td>\n",
       "      <td>Glamping &amp; Camping</td>\n",
       "    </tr>\n",
       "    <tr>\n",
       "      <td>7</td>\n",
       "      <td>179</td>\n",
       "      <td>Puerto Ayacucho</td>\n",
       "      <td>CO</td>\n",
       "      <td>72.34</td>\n",
       "      <td>light rain</td>\n",
       "      <td>5.66</td>\n",
       "      <td>-67.63</td>\n",
       "      <td>Posada Turistica Manapiare</td>\n",
       "    </tr>\n",
       "    <tr>\n",
       "      <td>8</td>\n",
       "      <td>188</td>\n",
       "      <td>Namibe</td>\n",
       "      <td>AO</td>\n",
       "      <td>73.22</td>\n",
       "      <td>moderate rain</td>\n",
       "      <td>-15.19</td>\n",
       "      <td>12.15</td>\n",
       "      <td>Chik-Chik Namibe</td>\n",
       "    </tr>\n",
       "    <tr>\n",
       "      <td>9</td>\n",
       "      <td>193</td>\n",
       "      <td>Coari</td>\n",
       "      <td>BR</td>\n",
       "      <td>74.88</td>\n",
       "      <td>light rain</td>\n",
       "      <td>-4.09</td>\n",
       "      <td>-63.14</td>\n",
       "      <td>HOTEL ALEX FLAT</td>\n",
       "    </tr>\n",
       "  </tbody>\n",
       "</table>\n",
       "</div>"
      ],
      "text/plain": [
       "   City_ID             City Country  Max Temp Weather Description    Lat  \\\n",
       "0       34          Caarapo      BR     71.38          light rain -22.63   \n",
       "1      108  Arraial Do Cabo      BR     72.70          light rain -22.97   \n",
       "2      128         Klaksvik      FO     39.20          light rain  62.23   \n",
       "3      146        Myitkyina      MM     65.59          light rain  25.38   \n",
       "4      149    Fuerte Olimpo      BR     74.97          light rain -21.04   \n",
       "5      156     Constitucion      MX     62.01          light rain  23.99   \n",
       "6      166   Vestmannaeyjar      IS     42.24          light rain  63.44   \n",
       "7      179  Puerto Ayacucho      CO     72.34          light rain   5.66   \n",
       "8      188           Namibe      AO     73.22       moderate rain -15.19   \n",
       "9      193            Coari      BR     74.88          light rain  -4.09   \n",
       "\n",
       "      Lng                   Hotel Name  \n",
       "0  -54.82  Hotel Pousada Quinta do Sul  \n",
       "1  -42.02          Pousada Porto Praia  \n",
       "2   -6.59                 Airbnb rooms  \n",
       "3   97.40              Shwe Phyu Hotel  \n",
       "4  -57.87          Hotel Fuerte Olimpo  \n",
       "5 -104.67     Hotel Posada San Agustin  \n",
       "6  -20.27           Glamping & Camping  \n",
       "7  -67.63   Posada Turistica Manapiare  \n",
       "8   12.15             Chik-Chik Namibe  \n",
       "9  -63.14              HOTEL ALEX FLAT  "
      ]
     },
     "execution_count": 16,
     "metadata": {},
     "output_type": "execute_result"
    }
   ],
   "source": [
    "# Declare variables that connect to the CSV files in the weather data folder\n",
    "#mport the WeatherPy_vacation.csv\n",
    "# Files to load\n",
    "\n",
    "file_data_to_load = \"weather_data/WeatherPy_vacation.csv\"\n",
    "# Read the weather data file and store it in a pandas DataFrame.\n",
    "vacation_itinerary_df = pd.read_csv(file_data_to_load)\n",
    "vacation_itinerary_df.head(10)"
   ]
  },
  {
   "cell_type": "markdown",
   "metadata": {},
   "source": [
    "#### From the vacation search map, choose at least four cities in close proximity on your map \n",
    "#### that are on the same continent that a customer might travel to, and then create a directions layer map."
   ]
  },
  {
   "cell_type": "code",
   "execution_count": 17,
   "metadata": {},
   "outputs": [],
   "source": [
    "import gmaps\n",
    "import gmaps.datasets\n",
    "gmaps.configure(api_key=g_key)"
   ]
  },
  {
   "cell_type": "code",
   "execution_count": 18,
   "metadata": {},
   "outputs": [
    {
     "data": {
      "text/html": [
       "<div>\n",
       "<style scoped>\n",
       "    .dataframe tbody tr th:only-of-type {\n",
       "        vertical-align: middle;\n",
       "    }\n",
       "\n",
       "    .dataframe tbody tr th {\n",
       "        vertical-align: top;\n",
       "    }\n",
       "\n",
       "    .dataframe thead th {\n",
       "        text-align: right;\n",
       "    }\n",
       "</style>\n",
       "<table border=\"1\" class=\"dataframe\">\n",
       "  <thead>\n",
       "    <tr style=\"text-align: right;\">\n",
       "      <th></th>\n",
       "      <th>City</th>\n",
       "      <th>Lat</th>\n",
       "      <th>Lng</th>\n",
       "    </tr>\n",
       "  </thead>\n",
       "  <tbody>\n",
       "    <tr>\n",
       "      <td>0</td>\n",
       "      <td>Caarapo</td>\n",
       "      <td>-22.63</td>\n",
       "      <td>-54.82</td>\n",
       "    </tr>\n",
       "    <tr>\n",
       "      <td>1</td>\n",
       "      <td>Arraial Do Cabo</td>\n",
       "      <td>-22.97</td>\n",
       "      <td>-42.02</td>\n",
       "    </tr>\n",
       "    <tr>\n",
       "      <td>2</td>\n",
       "      <td>Klaksvik</td>\n",
       "      <td>62.23</td>\n",
       "      <td>-6.59</td>\n",
       "    </tr>\n",
       "    <tr>\n",
       "      <td>3</td>\n",
       "      <td>Myitkyina</td>\n",
       "      <td>25.38</td>\n",
       "      <td>97.40</td>\n",
       "    </tr>\n",
       "    <tr>\n",
       "      <td>4</td>\n",
       "      <td>Fuerte Olimpo</td>\n",
       "      <td>-21.04</td>\n",
       "      <td>-57.87</td>\n",
       "    </tr>\n",
       "    <tr>\n",
       "      <td>5</td>\n",
       "      <td>Constitucion</td>\n",
       "      <td>23.99</td>\n",
       "      <td>-104.67</td>\n",
       "    </tr>\n",
       "    <tr>\n",
       "      <td>6</td>\n",
       "      <td>Vestmannaeyjar</td>\n",
       "      <td>63.44</td>\n",
       "      <td>-20.27</td>\n",
       "    </tr>\n",
       "    <tr>\n",
       "      <td>7</td>\n",
       "      <td>Puerto Ayacucho</td>\n",
       "      <td>5.66</td>\n",
       "      <td>-67.63</td>\n",
       "    </tr>\n",
       "    <tr>\n",
       "      <td>8</td>\n",
       "      <td>Namibe</td>\n",
       "      <td>-15.19</td>\n",
       "      <td>12.15</td>\n",
       "    </tr>\n",
       "    <tr>\n",
       "      <td>9</td>\n",
       "      <td>Coari</td>\n",
       "      <td>-4.09</td>\n",
       "      <td>-63.14</td>\n",
       "    </tr>\n",
       "  </tbody>\n",
       "</table>\n",
       "</div>"
      ],
      "text/plain": [
       "              City    Lat     Lng\n",
       "0          Caarapo -22.63  -54.82\n",
       "1  Arraial Do Cabo -22.97  -42.02\n",
       "2         Klaksvik  62.23   -6.59\n",
       "3        Myitkyina  25.38   97.40\n",
       "4    Fuerte Olimpo -21.04  -57.87\n",
       "5     Constitucion  23.99 -104.67\n",
       "6   Vestmannaeyjar  63.44  -20.27\n",
       "7  Puerto Ayacucho   5.66  -67.63\n",
       "8           Namibe -15.19   12.15\n",
       "9            Coari  -4.09  -63.14"
      ]
     },
     "execution_count": 18,
     "metadata": {},
     "output_type": "execute_result"
    }
   ],
   "source": [
    "first = vacation_itinerary_df[[\"City\", \"Lat\", \"Lng\"]].copy() \n",
    "first.head(10)"
   ]
  },
  {
   "cell_type": "code",
   "execution_count": 19,
   "metadata": {},
   "outputs": [
    {
     "data": {
      "text/plain": [
       "(57.34, 28.36)"
      ]
     },
     "execution_count": 19,
     "metadata": {},
     "output_type": "execute_result"
    }
   ],
   "source": [
    "vacation_city_1 =vacation_itinerary_df.loc[first[\"City\"] == \"Kamenka\"]\n",
    "vacation_city_1\n",
    "city_1 = vacation_city_1[\"Lat\"].values[0],vacation_city_1[\"Lng\"].values[0]\n",
    "city_1\n",
    "vacation_city_2 =vacation_itinerary_df.loc[first[\"City\"] == \"Bereznyky\"]\n",
    "city_2 = vacation_city_2[\"Lat\"].values[0],vacation_city_2[\"Lng\"].values[0]\n",
    "city_2\n",
    "\n",
    "vacation_city_3 =vacation_itinerary_df.loc[first[\"City\"] == \"Velizh\"]\n",
    "city_3 = vacation_city_3[\"Lat\"].values[0],vacation_city_3[\"Lng\"].values[0]\n",
    "city_3\n",
    "\n",
    "vacation_city_4 =vacation_itinerary_df.loc[first[\"City\"] == \"Ostrov\"]\n",
    "city_4 = vacation_city_4[\"Lat\"].values[0],vacation_city_4[\"Lng\"].values[0]\n",
    "city_4"
   ]
  },
  {
   "cell_type": "code",
   "execution_count": 20,
   "metadata": {},
   "outputs": [
    {
     "data": {
      "text/html": [
       "<div>\n",
       "<style scoped>\n",
       "    .dataframe tbody tr th:only-of-type {\n",
       "        vertical-align: middle;\n",
       "    }\n",
       "\n",
       "    .dataframe tbody tr th {\n",
       "        vertical-align: top;\n",
       "    }\n",
       "\n",
       "    .dataframe thead th {\n",
       "        text-align: right;\n",
       "    }\n",
       "</style>\n",
       "<table border=\"1\" class=\"dataframe\">\n",
       "  <thead>\n",
       "    <tr style=\"text-align: right;\">\n",
       "      <th></th>\n",
       "      <th>City_ID</th>\n",
       "      <th>City</th>\n",
       "      <th>Country</th>\n",
       "      <th>Max Temp</th>\n",
       "      <th>Weather Description</th>\n",
       "      <th>Lat</th>\n",
       "      <th>Lng</th>\n",
       "      <th>Hotel Name</th>\n",
       "    </tr>\n",
       "  </thead>\n",
       "  <tbody>\n",
       "    <tr>\n",
       "      <td>10</td>\n",
       "      <td>218</td>\n",
       "      <td>Kamenka</td>\n",
       "      <td>MD</td>\n",
       "      <td>55.99</td>\n",
       "      <td>light rain</td>\n",
       "      <td>48.03</td>\n",
       "      <td>28.70</td>\n",
       "      <td>NaN</td>\n",
       "    </tr>\n",
       "    <tr>\n",
       "      <td>21</td>\n",
       "      <td>484</td>\n",
       "      <td>Bereznyky</td>\n",
       "      <td>UA</td>\n",
       "      <td>52.59</td>\n",
       "      <td>light rain</td>\n",
       "      <td>50.86</td>\n",
       "      <td>27.48</td>\n",
       "      <td>NaN</td>\n",
       "    </tr>\n",
       "    <tr>\n",
       "      <td>24</td>\n",
       "      <td>568</td>\n",
       "      <td>Velizh</td>\n",
       "      <td>RU</td>\n",
       "      <td>42.40</td>\n",
       "      <td>light rain</td>\n",
       "      <td>55.61</td>\n",
       "      <td>31.20</td>\n",
       "      <td>Энергетик</td>\n",
       "    </tr>\n",
       "    <tr>\n",
       "      <td>25</td>\n",
       "      <td>581</td>\n",
       "      <td>Ostrov</td>\n",
       "      <td>RU</td>\n",
       "      <td>42.80</td>\n",
       "      <td>light rain</td>\n",
       "      <td>57.34</td>\n",
       "      <td>28.36</td>\n",
       "      <td>Ostrov-Park</td>\n",
       "    </tr>\n",
       "  </tbody>\n",
       "</table>\n",
       "</div>"
      ],
      "text/plain": [
       "    City_ID       City Country  Max Temp Weather Description    Lat    Lng  \\\n",
       "10      218    Kamenka      MD     55.99          light rain  48.03  28.70   \n",
       "21      484  Bereznyky      UA     52.59          light rain  50.86  27.48   \n",
       "24      568     Velizh      RU     42.40          light rain  55.61  31.20   \n",
       "25      581     Ostrov      RU     42.80          light rain  57.34  28.36   \n",
       "\n",
       "     Hotel Name  \n",
       "10          NaN  \n",
       "21          NaN  \n",
       "24    Энергетик  \n",
       "25  Ostrov-Park  "
      ]
     },
     "execution_count": 20,
     "metadata": {},
     "output_type": "execute_result"
    }
   ],
   "source": [
    "selected_four_df= vacation_city_1.append([vacation_city_2, vacation_city_3, vacation_city_4])\n",
    "selected_four_df"
   ]
  },
  {
   "cell_type": "markdown",
   "metadata": {},
   "source": [
    "#### Create a marker layer map for the four cities above"
   ]
  },
  {
   "cell_type": "code",
   "execution_count": 21,
   "metadata": {},
   "outputs": [],
   "source": [
    "# Add a pop-up marker for each city that displays the hotel name, city name, country, and maximum temperature.\n",
    "# Add an info_box_template\n",
    "\n",
    "info_box_template = \"\"\"\n",
    "<dl>\n",
    "<dt>Hotel Name</dt><dd>{Hotel Name}</dd>\n",
    "<dt>City</dt><dd>{City}</dd>\n",
    "<dt>Country</dt><dd>{Country}</dd>\n",
    "<dt>Weather Description</dt><dd>{Weather Description} and {Max Temp} °F</dd>\n",
    "</dl>\n",
    "\"\"\"\n",
    "\n",
    "# Store the DataFrame Row.\n",
    "hotel_info = [info_box_template.format(**row) for index, row in selected_four_df.iterrows()]"
   ]
  },
  {
   "cell_type": "code",
   "execution_count": 22,
   "metadata": {},
   "outputs": [
    {
     "data": {
      "application/vnd.jupyter.widget-view+json": {
       "model_id": "c569489a0a334dd59691a5fbaaed4663",
       "version_major": 2,
       "version_minor": 0
      },
      "text/plain": [
       "Figure(layout=FigureLayout(height='420px'))"
      ]
     },
     "metadata": {},
     "output_type": "display_data"
    }
   ],
   "source": [
    "## Syntax  for adding markers = gmaps.marker_layer(marker_locations, where the marker_locations are latitudes and longitudes.\n",
    "\n",
    "# Add a heatmap of temperature for the vacation spots and a pop-up marker for each city.\n",
    "locations = selected_four_df[[\"Lat\", \"Lng\"]]\n",
    "max_temp = selected_four_df[\"Max Temp\"]\n",
    "fig = gmaps.figure(center=(30.0, 31.0), zoom_level=1.5)\n",
    "heat_layer = gmaps.heatmap_layer(locations, weights=max_temp,dissipating=False,\n",
    "             max_intensity=300, point_radius=4)\n",
    "marker_layer = gmaps.marker_layer(locations, info_box_content=hotel_info)\n",
    "fig.add_layer(heat_layer)\n",
    "fig.add_layer(marker_layer)\n",
    "\n",
    "# Call the figure to plot the data.\n",
    "fig"
   ]
  },
  {
   "cell_type": "markdown",
   "metadata": {},
   "source": [
    "#### Directions Layer"
   ]
  },
  {
   "cell_type": "code",
   "execution_count": 29,
   "metadata": {},
   "outputs": [
    {
     "data": {
      "application/vnd.jupyter.widget-view+json": {
       "model_id": "965368f88425499bb742bc2bef5c701d",
       "version_major": 2,
       "version_minor": 0
      },
      "text/plain": [
       "Figure(layout=FigureLayout(height='420px'))"
      ]
     },
     "metadata": {},
     "output_type": "display_data"
    }
   ],
   "source": [
    "import gmaps\n",
    "import gmaps.datasets\n",
    "gmaps.configure(api_key=g_key)\n",
    "\n",
    "# Latitude-longitude pairs\n",
    "Kamenka = (48.03, 28.70)\n",
    "Bereznyky = (50.86, 27.48)\n",
    "Velizh = (55.61, 31.20)\n",
    "Ostrov = (57.34, 28.36)\n",
    "\n",
    "fig = gmaps.figure()\n",
    "Kamenka2Ostrov = gmaps.directions_layer(Kamenka, Ostrov)\n",
    "marker_layer = gmaps.marker_layer(locations, info_box_content=hotel_info)\n",
    "#fig.add_layer(Kamenka2Ostrov)\n",
    "fig.add_layer(marker_layer)\n",
    "fig"
   ]
  },
  {
   "cell_type": "markdown",
   "metadata": {},
   "source": [
    "#### Driving, Bicycling or Walking Travel Mode"
   ]
  },
  {
   "cell_type": "code",
   "execution_count": 28,
   "metadata": {},
   "outputs": [
    {
     "data": {
      "application/vnd.jupyter.widget-view+json": {
       "model_id": "bd3a0232f3a94f4d9f0821ccfc440971",
       "version_major": 2,
       "version_minor": 0
      },
      "text/plain": [
       "Figure(layout=FigureLayout(height='420px'))"
      ]
     },
     "metadata": {},
     "output_type": "display_data"
    }
   ],
   "source": [
    "# Europe:fig = gmaps.figure() - BICYCLING\n",
    "\n",
    "fig = gmaps.figure()\n",
    "Kamenka2Ostrov_via_Bereznyky = gmaps.directions_layer(\n",
    "       Kamenka, Ostrov, waypoints=[Bereznyky],\n",
    "        travel_mode='BICYCLING')\n",
    "marker_layer = gmaps.marker_layer(locations, info_box_content=hotel_info)\n",
    "#fig.add_layer(Kamenka2Ostrov_via_Bereznyky)\n",
    "fig.add_layer(marker_layer)\n",
    "fig"
   ]
  },
  {
   "cell_type": "code",
   "execution_count": 25,
   "metadata": {},
   "outputs": [
    {
     "data": {
      "application/vnd.jupyter.widget-view+json": {
       "model_id": "cbc71f5719f0423bbf39da22ca124a67",
       "version_major": 2,
       "version_minor": 0
      },
      "text/plain": [
       "Figure(layout=FigureLayout(height='420px'))"
      ]
     },
     "metadata": {},
     "output_type": "display_data"
    }
   ],
   "source": [
    "# Europe:fig = gmaps.figure() - DRIVING\n",
    "\n",
    "fig = gmaps.figure()\n",
    "Kamenka2Ostrov_via_Bereznyky = gmaps.directions_layer(\n",
    "       Kamenka, Ostrov, waypoints=[Bereznyky],\n",
    "        travel_mode='DRIVING')\n",
    "marker_layer = gmaps.marker_layer(locations, info_box_content=hotel_info)\n",
    "fig.add_layer(Kamenka2Ostrov_via_Bereznyky)\n",
    "fig.add_layer(marker_layer)\n",
    "fig"
   ]
  },
  {
   "cell_type": "code",
   "execution_count": 26,
   "metadata": {},
   "outputs": [
    {
     "data": {
      "application/vnd.jupyter.widget-view+json": {
       "model_id": "966cdd2722a642f3a55872034d2f944b",
       "version_major": 2,
       "version_minor": 0
      },
      "text/plain": [
       "Figure(layout=FigureLayout(height='420px'))"
      ]
     },
     "metadata": {},
     "output_type": "display_data"
    }
   ],
   "source": [
    "# Europe:fig = gmaps.figure() - WALKING\n",
    "\n",
    "fig = gmaps.figure()\n",
    "Kamenka2Ostrov_via_Bereznyky = gmaps.directions_layer(\n",
    "       Kamenka, Ostrov, waypoints=[Bereznyky],\n",
    "        travel_mode='WALKING')\n",
    "marker_layer = gmaps.marker_layer(locations, info_box_content=hotel_info)\n",
    "fig.add_layer(Kamenka2Ostrov_via_Bereznyky)\n",
    "fig.add_layer(marker_layer)\n",
    "fig"
   ]
  },
  {
   "cell_type": "code",
   "execution_count": null,
   "metadata": {},
   "outputs": [],
   "source": []
  }
 ],
 "metadata": {
  "kernelspec": {
   "display_name": "PythonData",
   "language": "python",
   "name": "pythondata"
  },
  "language_info": {
   "codemirror_mode": {
    "name": "ipython",
    "version": 3
   },
   "file_extension": ".py",
   "mimetype": "text/x-python",
   "name": "python",
   "nbconvert_exporter": "python",
   "pygments_lexer": "ipython3",
   "version": "3.6.9"
  }
 },
 "nbformat": 4,
 "nbformat_minor": 2
}
