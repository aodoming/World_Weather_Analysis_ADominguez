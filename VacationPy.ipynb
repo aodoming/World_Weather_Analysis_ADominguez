{
 "cells": [
  {
   "cell_type": "code",
   "execution_count": 6,
   "metadata": {},
   "outputs": [],
   "source": [
    "#Import the dependencies.\n",
    "import pandas as pd         # to read the csv file and create the locations & measurements from the DF\n",
    "import gmaps                # to create heatmaps and locations map\n",
    "import requests             # to make a request to the Google Places JSON file\n",
    "#Import the API key.\n",
    "from config import g_key    # to create heatmaps and locations map\n",
    "\n",
    "                            # Our dependencies will allow us to get hotel locations from the latitude and longitude of the city"
   ]
  },
  {
   "cell_type": "code",
   "execution_count": 7,
   "metadata": {},
   "outputs": [
    {
     "data": {
      "text/html": [
       "<div>\n",
       "<style scoped>\n",
       "    .dataframe tbody tr th:only-of-type {\n",
       "        vertical-align: middle;\n",
       "    }\n",
       "\n",
       "    .dataframe tbody tr th {\n",
       "        vertical-align: top;\n",
       "    }\n",
       "\n",
       "    .dataframe thead th {\n",
       "        text-align: right;\n",
       "    }\n",
       "</style>\n",
       "<table border=\"1\" class=\"dataframe\">\n",
       "  <thead>\n",
       "    <tr style=\"text-align: right;\">\n",
       "      <th></th>\n",
       "      <th>City_ID</th>\n",
       "      <th>City</th>\n",
       "      <th>Country</th>\n",
       "      <th>Date</th>\n",
       "      <th>Lat</th>\n",
       "      <th>Lng</th>\n",
       "      <th>Max Temp</th>\n",
       "      <th>Humidity</th>\n",
       "      <th>Cloudiness</th>\n",
       "      <th>Wind Speed</th>\n",
       "    </tr>\n",
       "  </thead>\n",
       "  <tbody>\n",
       "    <tr>\n",
       "      <td>0</td>\n",
       "      <td>0</td>\n",
       "      <td>Katsuura</td>\n",
       "      <td>JP</td>\n",
       "      <td>2019-11-06 00:16:32</td>\n",
       "      <td>33.93</td>\n",
       "      <td>134.50</td>\n",
       "      <td>59.00</td>\n",
       "      <td>66</td>\n",
       "      <td>40</td>\n",
       "      <td>10.29</td>\n",
       "    </tr>\n",
       "    <tr>\n",
       "      <td>1</td>\n",
       "      <td>1</td>\n",
       "      <td>Butaritari</td>\n",
       "      <td>KI</td>\n",
       "      <td>2019-11-06 00:16:33</td>\n",
       "      <td>3.07</td>\n",
       "      <td>172.79</td>\n",
       "      <td>84.04</td>\n",
       "      <td>76</td>\n",
       "      <td>1</td>\n",
       "      <td>11.74</td>\n",
       "    </tr>\n",
       "    <tr>\n",
       "      <td>2</td>\n",
       "      <td>2</td>\n",
       "      <td>Vostok</td>\n",
       "      <td>RU</td>\n",
       "      <td>2019-11-06 00:16:33</td>\n",
       "      <td>46.45</td>\n",
       "      <td>135.83</td>\n",
       "      <td>15.40</td>\n",
       "      <td>85</td>\n",
       "      <td>100</td>\n",
       "      <td>8.66</td>\n",
       "    </tr>\n",
       "    <tr>\n",
       "      <td>3</td>\n",
       "      <td>3</td>\n",
       "      <td>Punta Arenas</td>\n",
       "      <td>CL</td>\n",
       "      <td>2019-11-06 00:16:33</td>\n",
       "      <td>-53.16</td>\n",
       "      <td>-70.91</td>\n",
       "      <td>41.00</td>\n",
       "      <td>100</td>\n",
       "      <td>75</td>\n",
       "      <td>9.17</td>\n",
       "    </tr>\n",
       "    <tr>\n",
       "      <td>4</td>\n",
       "      <td>4</td>\n",
       "      <td>Cabo San Lucas</td>\n",
       "      <td>MX</td>\n",
       "      <td>2019-11-06 00:15:11</td>\n",
       "      <td>22.89</td>\n",
       "      <td>-109.91</td>\n",
       "      <td>84.99</td>\n",
       "      <td>65</td>\n",
       "      <td>40</td>\n",
       "      <td>12.75</td>\n",
       "    </tr>\n",
       "  </tbody>\n",
       "</table>\n",
       "</div>"
      ],
      "text/plain": [
       "   City_ID            City Country                 Date    Lat     Lng  \\\n",
       "0        0        Katsuura      JP  2019-11-06 00:16:32  33.93  134.50   \n",
       "1        1      Butaritari      KI  2019-11-06 00:16:33   3.07  172.79   \n",
       "2        2          Vostok      RU  2019-11-06 00:16:33  46.45  135.83   \n",
       "3        3    Punta Arenas      CL  2019-11-06 00:16:33 -53.16  -70.91   \n",
       "4        4  Cabo San Lucas      MX  2019-11-06 00:15:11  22.89 -109.91   \n",
       "\n",
       "   Max Temp  Humidity  Cloudiness  Wind Speed  \n",
       "0     59.00        66          40       10.29  \n",
       "1     84.04        76           1       11.74  \n",
       "2     15.40        85         100        8.66  \n",
       "3     41.00       100          75        9.17  \n",
       "4     84.99        65          40       12.75  "
      ]
     },
     "execution_count": 7,
     "metadata": {},
     "output_type": "execute_result"
    }
   ],
   "source": [
    "# Store the CSV you saved created in part one into a DataFrame.\n",
    "city_data_df = pd.read_csv(\"weather_data/cities.csv\")\n",
    "city_data_df.head()"
   ]
  },
  {
   "cell_type": "code",
   "execution_count": 8,
   "metadata": {},
   "outputs": [
    {
     "data": {
      "text/plain": [
       "City_ID         int64\n",
       "City           object\n",
       "Country        object\n",
       "Date           object\n",
       "Lat           float64\n",
       "Lng           float64\n",
       "Max Temp      float64\n",
       "Humidity        int64\n",
       "Cloudiness      int64\n",
       "Wind Speed    float64\n",
       "dtype: object"
      ]
     },
     "execution_count": 8,
     "metadata": {},
     "output_type": "execute_result"
    }
   ],
   "source": [
    "# Check the data types of a DF\n",
    "# The data we use for any mapping must be either an integer or a floating-point decimal number.\n",
    "\n",
    "city_data_df.dtypes"
   ]
  },
  {
   "cell_type": "markdown",
   "metadata": {},
   "source": [
    "\n",
    "## Create Heatmap for Maximum Temperature "
   ]
  },
  {
   "cell_type": "code",
   "execution_count": 9,
   "metadata": {},
   "outputs": [],
   "source": [
    "# Configure gmaps to use your Google API key.\n",
    "gmaps.configure(api_key=g_key)"
   ]
  },
  {
   "cell_type": "code",
   "execution_count": 23,
   "metadata": {},
   "outputs": [
    {
     "data": {
      "application/vnd.jupyter.widget-view+json": {
       "model_id": "0369c403470b4d488b1037e144e35aa9",
       "version_major": 2,
       "version_minor": 0
      },
      "text/plain": [
       "Figure(layout=FigureLayout(height='420px'))"
      ]
     },
     "metadata": {},
     "output_type": "display_data"
    }
   ],
   "source": [
    "# Heatmap of temperature\n",
    "# Get the latitude and longitude.\n",
    "locations = city_data_df[[\"Lat\", \"Lng\"]]\n",
    "# Get the maximum temperature.\n",
    "max_temp = city_data_df[\"Max Temp\"]\n",
    "# Assign the figure variable.\n",
    "fig = gmaps.figure(center=(30.0, 31.0), zoom_level=1.5)\n",
    "# Assign the heatmap variable.\n",
    "heat_layer = gmaps.heatmap_layer(locations, weights=[max(temp, 0) for temp in max_temp]) #[max(0,temp) for temp in max_temp])\n",
    "# Add the heatmap layer.\n",
    "fig.add_layer(heat_layer)\n",
    "# Call the figure to plot the data.\n",
    "fig"
   ]
  },
  {
   "cell_type": "code",
   "execution_count": 22,
   "metadata": {},
   "outputs": [
    {
     "data": {
      "application/vnd.jupyter.widget-view+json": {
       "model_id": "76a1221de87b480594561bc53dbf5b7d",
       "version_major": 2,
       "version_minor": 0
      },
      "text/plain": [
       "Figure(layout=FigureLayout(height='420px'))"
      ]
     },
     "metadata": {},
     "output_type": "display_data"
    }
   ],
   "source": [
    "# Modity the gmaps.heat_layer to enlarge circles for the temps and show temperature gradient differences.\n",
    "\n",
    "# Heatmap of temperature\n",
    "# Get the latitude and longitude.\n",
    "locations = city_data_df[[\"Lat\", \"Lng\"]]\n",
    "# Get the maximum temperature.\n",
    "max_temp = city_data_df[\"Max Temp\"]\n",
    "# Assign the figure variable.\n",
    "fig = gmaps.figure(center=(30.0, 31.0), zoom_level=1.5)\n",
    "# Assign the heatmap variable.\n",
    "heat_layer = gmaps.heatmap_layer(locations, weights=[max(temp, 0) for temp in max_temp], \n",
    "                                dissipating=False, max_intensity=300, point_radius=4)\n",
    "# Add the heatmap layer.\n",
    "fig.add_layer(heat_layer)\n",
    "# Call the figure to plot the data.\n",
    "fig"
   ]
  },
  {
   "cell_type": "markdown",
   "metadata": {},
   "source": [
    "\n",
    "## Create a Heatmap for Percent Humidity"
   ]
  },
  {
   "cell_type": "code",
   "execution_count": 21,
   "metadata": {},
   "outputs": [
    {
     "data": {
      "application/vnd.jupyter.widget-view+json": {
       "model_id": "483533f50e3d48c1910daf700a5b645e",
       "version_major": 2,
       "version_minor": 0
      },
      "text/plain": [
       "Figure(layout=FigureLayout(height='420px'))"
      ]
     },
     "metadata": {},
     "output_type": "display_data"
    }
   ],
   "source": [
    "# Heatmap of Humidity\n",
    "# Get the latitude and longitude.\n",
    "locations = city_data_df[[\"Lat\", \"Lng\"]]\n",
    "# Get the Humidity.\n",
    "humidity = city_data_df[\"Humidity\"]\n",
    "# Assign the figure variable.\n",
    "fig = gmaps.figure(center=(30.0, 31.0), zoom_level=1.5)\n",
    "# Assign the heatmap variable.\n",
    "heat_layer = gmaps.heatmap_layer(locations, weights=humidity,dissipating=False, max_intensity=300, point_radius=4)\n",
    "# Add the heatmap layer.\n",
    "fig.add_layer(heat_layer)\n",
    "# Call the figure to plot the data.\n",
    "fig"
   ]
  },
  {
   "cell_type": "markdown",
   "metadata": {},
   "source": [
    "\n",
    "## Create a Heatmap for Percent Cloudiness"
   ]
  },
  {
   "cell_type": "code",
   "execution_count": 24,
   "metadata": {},
   "outputs": [
    {
     "data": {
      "application/vnd.jupyter.widget-view+json": {
       "model_id": "4e4aecc5476a4b8f9d5d1dc888ac58a7",
       "version_major": 2,
       "version_minor": 0
      },
      "text/plain": [
       "Figure(layout=FigureLayout(height='420px'))"
      ]
     },
     "metadata": {},
     "output_type": "display_data"
    }
   ],
   "source": [
    "# Heatmap of Cloudiness\n",
    "# Get the latitude and longitude.\n",
    "locations = city_data_df[[\"Lat\", \"Lng\"]]\n",
    "# Get the Cloudiness.\n",
    "cloudiness = city_data_df[\"Cloudiness\"]\n",
    "# Assign the figure variable.\n",
    "fig = gmaps.figure(center=(30.0, 31.0), zoom_level=1.5)\n",
    "# Assign the heatmap variable.\n",
    "heat_layer = gmaps.heatmap_layer(locations, weights=cloudiness, dissipating=False, max_intensity=300, point_radius=4)\n",
    "# Add the heatmap layer.\n",
    "fig.add_layer(heat_layer)\n",
    "# Call the figure to plot the data.\n",
    "fig"
   ]
  },
  {
   "cell_type": "markdown",
   "metadata": {},
   "source": [
    "\n",
    "## Create a Heatmap for Wind Speed"
   ]
  },
  {
   "cell_type": "code",
   "execution_count": 25,
   "metadata": {},
   "outputs": [
    {
     "data": {
      "application/vnd.jupyter.widget-view+json": {
       "model_id": "cf38cfa8cfde4457b0de3911fd7110f1",
       "version_major": 2,
       "version_minor": 0
      },
      "text/plain": [
       "Figure(layout=FigureLayout(height='420px'))"
      ]
     },
     "metadata": {},
     "output_type": "display_data"
    }
   ],
   "source": [
    "# Heatmap of Wind Speed\n",
    "# Get the latitude and longitude.\n",
    "locations = city_data_df[[\"Lat\", \"Lng\"]]\n",
    "# Get the Wind Speed\n",
    "wind_speed = city_data_df[\"Wind Speed\"]\n",
    "# Assign the figure variable.\n",
    "fig = gmaps.figure(center=(30.0, 31.0), zoom_level=1.5)\n",
    "# Assign the heatmap variable.\n",
    "heat_layer = gmaps.heatmap_layer(locations, weights=wind_speed, dissipating=False, max_intensity=300, point_radius=4)\n",
    "# Add the heatmap layer.\n",
    "fig.add_layer(heat_layer)\n",
    "# Call the figure to plot the data.\n",
    "fig"
   ]
  },
  {
   "cell_type": "markdown",
   "metadata": {},
   "source": [
    "\n",
    "## Get Vacation Criteria"
   ]
  },
  {
   "cell_type": "code",
   "execution_count": 27,
   "metadata": {},
   "outputs": [
    {
     "name": "stdout",
     "output_type": "stream",
     "text": [
      "What is the minimum temperature you would like for your trip? 75\n",
      "What is the maximum temperature you would like for your trip? 90\n"
     ]
    }
   ],
   "source": [
    "# Ask the customer to add a minimum and maximum temperature value.\n",
    "# For the app we are creating, we need to prompt the user to enter the minimum and maximum temperature ranges\n",
    "# as floating-point decimal numbers to filter the city_data_df DataFrame.\n",
    "\n",
    "\n",
    "min_temp = float(input(\"What is the minimum temperature you would like for your trip? \"))\n",
    "max_temp = float(input(\"What is the maximum temperature you would like for your trip? \"))"
   ]
  },
  {
   "cell_type": "code",
   "execution_count": 30,
   "metadata": {},
   "outputs": [
    {
     "data": {
      "text/html": [
       "<div>\n",
       "<style scoped>\n",
       "    .dataframe tbody tr th:only-of-type {\n",
       "        vertical-align: middle;\n",
       "    }\n",
       "\n",
       "    .dataframe tbody tr th {\n",
       "        vertical-align: top;\n",
       "    }\n",
       "\n",
       "    .dataframe thead th {\n",
       "        text-align: right;\n",
       "    }\n",
       "</style>\n",
       "<table border=\"1\" class=\"dataframe\">\n",
       "  <thead>\n",
       "    <tr style=\"text-align: right;\">\n",
       "      <th></th>\n",
       "      <th>City_ID</th>\n",
       "      <th>City</th>\n",
       "      <th>Country</th>\n",
       "      <th>Date</th>\n",
       "      <th>Lat</th>\n",
       "      <th>Lng</th>\n",
       "      <th>Max Temp</th>\n",
       "      <th>Humidity</th>\n",
       "      <th>Cloudiness</th>\n",
       "      <th>Wind Speed</th>\n",
       "    </tr>\n",
       "  </thead>\n",
       "  <tbody>\n",
       "    <tr>\n",
       "      <td>1</td>\n",
       "      <td>1</td>\n",
       "      <td>Butaritari</td>\n",
       "      <td>KI</td>\n",
       "      <td>2019-11-06 00:16:33</td>\n",
       "      <td>3.07</td>\n",
       "      <td>172.79</td>\n",
       "      <td>84.04</td>\n",
       "      <td>76</td>\n",
       "      <td>1</td>\n",
       "      <td>11.74</td>\n",
       "    </tr>\n",
       "    <tr>\n",
       "      <td>4</td>\n",
       "      <td>4</td>\n",
       "      <td>Cabo San Lucas</td>\n",
       "      <td>MX</td>\n",
       "      <td>2019-11-06 00:15:11</td>\n",
       "      <td>22.89</td>\n",
       "      <td>-109.91</td>\n",
       "      <td>84.99</td>\n",
       "      <td>65</td>\n",
       "      <td>40</td>\n",
       "      <td>12.75</td>\n",
       "    </tr>\n",
       "    <tr>\n",
       "      <td>6</td>\n",
       "      <td>6</td>\n",
       "      <td>Hilo</td>\n",
       "      <td>US</td>\n",
       "      <td>2019-11-06 00:16:35</td>\n",
       "      <td>19.71</td>\n",
       "      <td>-155.08</td>\n",
       "      <td>84.20</td>\n",
       "      <td>66</td>\n",
       "      <td>1</td>\n",
       "      <td>9.17</td>\n",
       "    </tr>\n",
       "    <tr>\n",
       "      <td>7</td>\n",
       "      <td>7</td>\n",
       "      <td>Avarua</td>\n",
       "      <td>CK</td>\n",
       "      <td>2019-11-06 00:16:35</td>\n",
       "      <td>-21.21</td>\n",
       "      <td>-159.78</td>\n",
       "      <td>75.20</td>\n",
       "      <td>73</td>\n",
       "      <td>100</td>\n",
       "      <td>4.70</td>\n",
       "    </tr>\n",
       "    <tr>\n",
       "      <td>16</td>\n",
       "      <td>16</td>\n",
       "      <td>Anloga</td>\n",
       "      <td>GH</td>\n",
       "      <td>2019-11-06 00:16:37</td>\n",
       "      <td>5.79</td>\n",
       "      <td>0.90</td>\n",
       "      <td>80.60</td>\n",
       "      <td>88</td>\n",
       "      <td>20</td>\n",
       "      <td>3.36</td>\n",
       "    </tr>\n",
       "    <tr>\n",
       "      <td>20</td>\n",
       "      <td>20</td>\n",
       "      <td>Rikitea</td>\n",
       "      <td>PF</td>\n",
       "      <td>2019-11-06 00:16:37</td>\n",
       "      <td>-23.12</td>\n",
       "      <td>-134.97</td>\n",
       "      <td>77.40</td>\n",
       "      <td>80</td>\n",
       "      <td>15</td>\n",
       "      <td>5.01</td>\n",
       "    </tr>\n",
       "    <tr>\n",
       "      <td>23</td>\n",
       "      <td>23</td>\n",
       "      <td>Rock Sound</td>\n",
       "      <td>BS</td>\n",
       "      <td>2019-11-06 00:16:38</td>\n",
       "      <td>24.90</td>\n",
       "      <td>-76.20</td>\n",
       "      <td>80.22</td>\n",
       "      <td>82</td>\n",
       "      <td>65</td>\n",
       "      <td>14.07</td>\n",
       "    </tr>\n",
       "    <tr>\n",
       "      <td>26</td>\n",
       "      <td>26</td>\n",
       "      <td>Port Augusta</td>\n",
       "      <td>AU</td>\n",
       "      <td>2019-11-06 00:16:39</td>\n",
       "      <td>-32.49</td>\n",
       "      <td>137.76</td>\n",
       "      <td>78.01</td>\n",
       "      <td>43</td>\n",
       "      <td>4</td>\n",
       "      <td>10.29</td>\n",
       "    </tr>\n",
       "    <tr>\n",
       "      <td>35</td>\n",
       "      <td>35</td>\n",
       "      <td>Phan Thiet</td>\n",
       "      <td>VN</td>\n",
       "      <td>2019-11-06 00:16:41</td>\n",
       "      <td>10.93</td>\n",
       "      <td>108.10</td>\n",
       "      <td>75.27</td>\n",
       "      <td>88</td>\n",
       "      <td>95</td>\n",
       "      <td>3.44</td>\n",
       "    </tr>\n",
       "    <tr>\n",
       "      <td>38</td>\n",
       "      <td>38</td>\n",
       "      <td>Bluff</td>\n",
       "      <td>AU</td>\n",
       "      <td>2019-11-06 00:16:41</td>\n",
       "      <td>-23.58</td>\n",
       "      <td>149.07</td>\n",
       "      <td>75.72</td>\n",
       "      <td>18</td>\n",
       "      <td>24</td>\n",
       "      <td>11.70</td>\n",
       "    </tr>\n",
       "  </tbody>\n",
       "</table>\n",
       "</div>"
      ],
      "text/plain": [
       "    City_ID            City Country                 Date    Lat     Lng  \\\n",
       "1         1      Butaritari      KI  2019-11-06 00:16:33   3.07  172.79   \n",
       "4         4  Cabo San Lucas      MX  2019-11-06 00:15:11  22.89 -109.91   \n",
       "6         6            Hilo      US  2019-11-06 00:16:35  19.71 -155.08   \n",
       "7         7          Avarua      CK  2019-11-06 00:16:35 -21.21 -159.78   \n",
       "16       16          Anloga      GH  2019-11-06 00:16:37   5.79    0.90   \n",
       "20       20         Rikitea      PF  2019-11-06 00:16:37 -23.12 -134.97   \n",
       "23       23      Rock Sound      BS  2019-11-06 00:16:38  24.90  -76.20   \n",
       "26       26    Port Augusta      AU  2019-11-06 00:16:39 -32.49  137.76   \n",
       "35       35      Phan Thiet      VN  2019-11-06 00:16:41  10.93  108.10   \n",
       "38       38           Bluff      AU  2019-11-06 00:16:41 -23.58  149.07   \n",
       "\n",
       "    Max Temp  Humidity  Cloudiness  Wind Speed  \n",
       "1      84.04        76           1       11.74  \n",
       "4      84.99        65          40       12.75  \n",
       "6      84.20        66           1        9.17  \n",
       "7      75.20        73         100        4.70  \n",
       "16     80.60        88          20        3.36  \n",
       "20     77.40        80          15        5.01  \n",
       "23     80.22        82          65       14.07  \n",
       "26     78.01        43           4       10.29  \n",
       "35     75.27        88          95        3.44  \n",
       "38     75.72        18          24       11.70  "
      ]
     },
     "execution_count": 30,
     "metadata": {},
     "output_type": "execute_result"
    }
   ],
   "source": [
    "# Next, filter the maximum temperature column in the city_data_df DF using logical operators to create a new DF \n",
    "# with the cities that meet the customer’s criteria.\n",
    "# Recall that you use the loc[] method on the current DataFrame to create a new DataFrame from a current DataFrame. \n",
    "\n",
    "preferred_cities_df = city_data_df.loc[(city_data_df[\"Max Temp\"] <= max_temp) & \\\n",
    "                                       (city_data_df[\"Max Temp\"] >= min_temp)]\n",
    "preferred_cities_df.head(10)"
   ]
  },
  {
   "cell_type": "code",
   "execution_count": 35,
   "metadata": {},
   "outputs": [
    {
     "data": {
      "text/plain": [
       "City_ID       156\n",
       "City          156\n",
       "Country       156\n",
       "Date          156\n",
       "Lat           156\n",
       "Lng           156\n",
       "Max Temp      156\n",
       "Humidity      156\n",
       "Cloudiness    156\n",
       "Wind Speed    156\n",
       "dtype: int64"
      ]
     },
     "execution_count": 35,
     "metadata": {},
     "output_type": "execute_result"
    }
   ],
   "source": [
    "# Determine if the preferred_cities_df DataFrame has any null values for any of the rows.Use either code\n",
    "\n",
    "preferred_cities_df.isnull().sum()   # to ensure no values are null\n",
    "#or\n",
    "preferred_cities_df.count()          #to ensure count for all variables are same"
   ]
  },
  {
   "cell_type": "markdown",
   "metadata": {},
   "source": [
    "#### Get Travel Destinations"
   ]
  },
  {
   "cell_type": "code",
   "execution_count": 37,
   "metadata": {},
   "outputs": [
    {
     "data": {
      "text/html": [
       "<div>\n",
       "<style scoped>\n",
       "    .dataframe tbody tr th:only-of-type {\n",
       "        vertical-align: middle;\n",
       "    }\n",
       "\n",
       "    .dataframe tbody tr th {\n",
       "        vertical-align: top;\n",
       "    }\n",
       "\n",
       "    .dataframe thead th {\n",
       "        text-align: right;\n",
       "    }\n",
       "</style>\n",
       "<table border=\"1\" class=\"dataframe\">\n",
       "  <thead>\n",
       "    <tr style=\"text-align: right;\">\n",
       "      <th></th>\n",
       "      <th>City</th>\n",
       "      <th>Country</th>\n",
       "      <th>Max Temp</th>\n",
       "      <th>Lat</th>\n",
       "      <th>Lng</th>\n",
       "      <th>Hotel Name</th>\n",
       "    </tr>\n",
       "  </thead>\n",
       "  <tbody>\n",
       "    <tr>\n",
       "      <td>1</td>\n",
       "      <td>Butaritari</td>\n",
       "      <td>KI</td>\n",
       "      <td>84.04</td>\n",
       "      <td>3.07</td>\n",
       "      <td>172.79</td>\n",
       "      <td></td>\n",
       "    </tr>\n",
       "    <tr>\n",
       "      <td>4</td>\n",
       "      <td>Cabo San Lucas</td>\n",
       "      <td>MX</td>\n",
       "      <td>84.99</td>\n",
       "      <td>22.89</td>\n",
       "      <td>-109.91</td>\n",
       "      <td></td>\n",
       "    </tr>\n",
       "    <tr>\n",
       "      <td>6</td>\n",
       "      <td>Hilo</td>\n",
       "      <td>US</td>\n",
       "      <td>84.20</td>\n",
       "      <td>19.71</td>\n",
       "      <td>-155.08</td>\n",
       "      <td></td>\n",
       "    </tr>\n",
       "    <tr>\n",
       "      <td>7</td>\n",
       "      <td>Avarua</td>\n",
       "      <td>CK</td>\n",
       "      <td>75.20</td>\n",
       "      <td>-21.21</td>\n",
       "      <td>-159.78</td>\n",
       "      <td></td>\n",
       "    </tr>\n",
       "    <tr>\n",
       "      <td>16</td>\n",
       "      <td>Anloga</td>\n",
       "      <td>GH</td>\n",
       "      <td>80.60</td>\n",
       "      <td>5.79</td>\n",
       "      <td>0.90</td>\n",
       "      <td></td>\n",
       "    </tr>\n",
       "    <tr>\n",
       "      <td>20</td>\n",
       "      <td>Rikitea</td>\n",
       "      <td>PF</td>\n",
       "      <td>77.40</td>\n",
       "      <td>-23.12</td>\n",
       "      <td>-134.97</td>\n",
       "      <td></td>\n",
       "    </tr>\n",
       "    <tr>\n",
       "      <td>23</td>\n",
       "      <td>Rock Sound</td>\n",
       "      <td>BS</td>\n",
       "      <td>80.22</td>\n",
       "      <td>24.90</td>\n",
       "      <td>-76.20</td>\n",
       "      <td></td>\n",
       "    </tr>\n",
       "    <tr>\n",
       "      <td>26</td>\n",
       "      <td>Port Augusta</td>\n",
       "      <td>AU</td>\n",
       "      <td>78.01</td>\n",
       "      <td>-32.49</td>\n",
       "      <td>137.76</td>\n",
       "      <td></td>\n",
       "    </tr>\n",
       "    <tr>\n",
       "      <td>35</td>\n",
       "      <td>Phan Thiet</td>\n",
       "      <td>VN</td>\n",
       "      <td>75.27</td>\n",
       "      <td>10.93</td>\n",
       "      <td>108.10</td>\n",
       "      <td></td>\n",
       "    </tr>\n",
       "    <tr>\n",
       "      <td>38</td>\n",
       "      <td>Bluff</td>\n",
       "      <td>AU</td>\n",
       "      <td>75.72</td>\n",
       "      <td>-23.58</td>\n",
       "      <td>149.07</td>\n",
       "      <td></td>\n",
       "    </tr>\n",
       "  </tbody>\n",
       "</table>\n",
       "</div>"
      ],
      "text/plain": [
       "              City Country  Max Temp    Lat     Lng Hotel Name\n",
       "1       Butaritari      KI     84.04   3.07  172.79           \n",
       "4   Cabo San Lucas      MX     84.99  22.89 -109.91           \n",
       "6             Hilo      US     84.20  19.71 -155.08           \n",
       "7           Avarua      CK     75.20 -21.21 -159.78           \n",
       "16          Anloga      GH     80.60   5.79    0.90           \n",
       "20         Rikitea      PF     77.40 -23.12 -134.97           \n",
       "23      Rock Sound      BS     80.22  24.90  -76.20           \n",
       "26    Port Augusta      AU     78.01 -32.49  137.76           \n",
       "35      Phan Thiet      VN     75.27  10.93  108.10           \n",
       "38           Bluff      AU     75.72 -23.58  149.07           "
      ]
     },
     "execution_count": 37,
     "metadata": {},
     "output_type": "execute_result"
    }
   ],
   "source": [
    "# Create DataFrame called hotel_df to store hotel names along with city, country, max temp, and coordinates.\n",
    "# Make a copy of the preferred_cities_df\n",
    "\n",
    "hotel_df = preferred_cities_df[[\"City\", \"Country\", \"Max Temp\", \"Lat\", \"Lng\"]].copy()\n",
    "hotel_df[\"Hotel Name\"] = \"\"\n",
    "hotel_df.head(10)"
   ]
  },
  {
   "cell_type": "markdown",
   "metadata": {},
   "source": [
    "#### Retrieve Hotels from a Nearby Search\n",
    "\n",
    "####### Set the Parameters for a Nearby Search"
   ]
  },
  {
   "cell_type": "code",
   "execution_count": 48,
   "metadata": {},
   "outputs": [],
   "source": [
    "# In a new cell, add the parameters as key-value pairs.\n",
    "# Add the params dictionary, API key, type, and radius parameters with the following values.\n",
    "\n",
    "# Set parameters to search for a hotel.\n",
    "params = {\n",
    "    \"radius\": 5000,\n",
    "    \"type\": \"lodging\",\n",
    "    \"key\": g_key\n",
    "}"
   ]
  },
  {
   "cell_type": "markdown",
   "metadata": {},
   "source": [
    "#### Iterate Through hotel_df DataFrame"
   ]
  },
  {
   "cell_type": "code",
   "execution_count": 66,
   "metadata": {},
   "outputs": [
    {
     "name": "stdout",
     "output_type": "stream",
     "text": [
      "Isles Sunset Lodge\n",
      "Tesoro Los Cabos\n",
      "Hilo Seaside Hotel\n",
      "Paradise Inn\n",
      "Pin Drop Hotel\n",
      "Pension Maro'i\n",
      "Rock Sound Club\n",
      "Majestic Oasis Apartments\n",
      "Hotel Saigon-PT\n",
      "Bluff Hotel\n",
      "Vanira Lodge\n",
      "Hôtel Le Dronmi\n",
      "Desert Gardens Hotel - Ayers Rock Resort\n",
      "Scoop Guest House\n",
      "Casa Rosa Hotel Residence\n",
      "Hotel Jhennifer\n",
      "Complexe Hôtelier Du 18 Décembre\n",
      "Sabrin Hotel\n",
      "Hotel not found... skipping.\n",
      "Courtyard by Marriott Kaua'i at Coconut Beach\n",
      "Crowne Plaza Acapulco\n",
      "Hotel Atoll Emerald Miyakojima\n",
      "Villa Enata\n",
      "Kanhai's Center\n",
      "Aston Denpasar Hotel & Convention Center\n",
      "Hotel not found... skipping.\n",
      "Hotel Don Fernando\n",
      "Pousada Porto Praia\n",
      "Laguna Maya Lodge\n",
      "Nuestra Casa\n",
      "Pondok Indah Gula Habang\n",
      "Hôtel Trois Étoiles de Biltine\n",
      "Butterfly Beach Hotel\n",
      "Hotel José Pereira\n",
      "Reserva do Abiaí\n",
      "Derogongan Residence\n",
      "Hotel not found... skipping.\n",
      "Mandiri\n",
      "East Pacific Center\n",
      "Bean pods\n",
      "Hotels in Lakshadweep Islands\n",
      "Sur Plaza Hotel\n",
      "Hotel Salinópolis\n",
      "Hotel Nord Class Tambaú\n",
      "Outback Samagos, KIUNGA. WP\n",
      "Swiss Belhotel Manokwari\n",
      "Nusa Island Retreat\n",
      "Daru hotel\n",
      "Aldea del Bazar Hotel and Spa\n",
      "ALETHEIA Appartement Sinnamary\n",
      "Tiara Labuan Hotel\n",
      "Maqna Hotel by Prasanthi\n",
      "Tanal Hotel Apartment\n",
      "El Fresco Lodge\n",
      "Groote Eylandt Lodge\n",
      "Backpackers Inn on the Beach\n",
      "Bungalow 63\n",
      "HAMDAN PLAZA HOTEL\n",
      "Hotel isabella\n",
      "The Waigo Hotel\n",
      "Namatanai Hotel\n",
      "ibis Styles Mt Isa Verona\n",
      "Osprey Beach Hotel\n",
      "Hotel not found... skipping.\n",
      "Juvinal Martin\n",
      "Lovers Point Inn\n",
      "Boboi Beach Lodge\n",
      "Hotel not found... skipping.\n",
      "The Irish Village\n",
      "Palm Spring Hotel\n",
      "Iriz Garden\n",
      "La Ode Gombe\n",
      "Kost Pria\n",
      "Taloa Heights\n",
      "Hotel not found... skipping.\n",
      "ibis Styles Karratha\n",
      "Camp Pasica\n",
      "Haajy Guest House 1\n",
      "Hotel not found... skipping.\n",
      "K2 Lembeh\n",
      "Conquistador Hotel\n",
      "Pousada Porto Do Conde\n",
      "Posada Lilia\n",
      "Shellharbour Resort & Conference Centre\n",
      "Selina Pedasi\n",
      "Hotel Ypê\n",
      "Savli Resort/Hotel - Shriwardhan\n",
      "PIZZARIA MARIANA\n",
      "Hotel Iparana Paradise\n",
      "Hotel Aconcagua\n",
      "Olympic Hotel\n",
      "Ilha Flat Hotel\n",
      "Ocean Pearl Bonefishing Resort\n",
      "Hotel not found... skipping.\n",
      "Raybow International Hotel\n",
      "Lamana Hotel\n",
      "A Beach Retreat\n",
      "INN NEW HORIZON\n",
      "Restaurant gourmand Coco Lodge Majunga\n",
      "Sandeep Holiday Homes, Prarthana Niwas\n",
      "Zal-Ann Beach Resort\n",
      "Tortuga B&B\n",
      "Hotel not found... skipping.\n",
      "Hotel not found... skipping.\n",
      "Pousada Porto De Canoas\n",
      "Apart Hotel Rio Xingu\n",
      "Royal Exchange Hotel\n",
      "Hotel not found... skipping.\n",
      "Maison d'arrêt et de correction de Yoro\n",
      "Monza Palace Hotel\n",
      "Hotel Silva\n",
      "Sea Sun Moon Hostel\n",
      "Moondarra Motel\n",
      "Hotel Alice\n",
      "Ungoofaaru Inn\n",
      "Hôtel Rehoboth\n",
      "Bora-Bora Pearl Beach Resort & Spa\n",
      "Eco-Hotel Hall & Restaurant\n",
      "Hotel Le Martin Pecheur\n",
      "Shovy's Cove\n",
      "Hôtel Iman\n",
      "Golden Nugget Laughlin Hotel & Casino\n",
      "Hotel not found... skipping.\n",
      "Holiday Inn Express Lompoc\n",
      "Hotel not found... skipping.\n",
      "The Sebel Kiama Harbourside\n",
      "Hotel not found... skipping.\n",
      "CeBlue Villas & Beach Resort\n",
      "Hôtel Songhoi\n",
      "Focus Guest Inn\n",
      "Porto Santana\n",
      "Leonardo Family Beach House 1\n",
      "ZINGARA 76ft Catamaran, full crew-all included\n",
      "Kost Putri RABBANI\n",
      "Atlantis Hotel\n",
      "900 Boutique INN\n",
      "LIKWALE LODGE\n",
      "Hotel Istana\n",
      "Santa Fe Inn Hotel\n",
      "Hostal Donde La Turca\n",
      "Atherton Holiday Park\n",
      "Hotel Pousada de Minas\n",
      "San Quintin River Resort\n",
      "Hotel Miramar\n",
      "Hotel not found... skipping.\n",
      "Hotel Novotel Manaus\n",
      "The Ocean Pearl\n",
      "Maitai Lapita Village Huahine\n",
      "Hotel Fairmont Makkah Clock Royal Tower\n",
      "Hotel Nusantara Nabire\n",
      "Crôa Mares Hotel\n",
      "Volcano Sea View Tree House\n",
      "Lorengau Harbourside Hotel\n",
      "Ecoporan Hotel Charme Spa & Eventos\n",
      "Hotel not found... skipping.\n",
      "Sheffield House Bed & Breakfast\n"
     ]
    }
   ],
   "source": [
    "# Iterate through the DataFrame.\n",
    "for index, row in hotel_df.iterrows():\n",
    "    # Get the latitude and longitude.\n",
    "    lat = row[\"Lat\"]\n",
    "    lng = row[\"Lng\"]\n",
    "\n",
    "    # Add the latitude and longitude to the params dictionary as values to the location key.\n",
    "    params[\"location\"] = f\"{lat},{lng}\"\n",
    "\n",
    "    # Use the search term: \"lodging\" and our latitude and longitude.\n",
    "    base_url = \"https://maps.googleapis.com/maps/api/place/nearbysearch/json\"\n",
    "    # Make request and get the JSON data from the search.\n",
    "    hotels = requests.get(base_url, params=params).json()\n",
    "\n",
    " # Modify the last piece of code and make a try-except block to handle the IndexError\n",
    " # Grab the first hotel from the results and store the name.\n",
    "    try:\n",
    "        hotel_df.loc[index, \"Hotel Name\"] = hotels[\"results\"][0][\"name\"]\n",
    "        print(hotel_df.loc[index, \"Hotel Name\"])\n",
    "    except (IndexError):\n",
    "        print(\"Hotel not found... skipping.\")"
   ]
  },
  {
   "cell_type": "markdown",
   "metadata": {},
   "source": [
    "\n",
    "\n",
    "## Create a Maximum Temperature Heatmap from a Hotel DataFrame"
   ]
  },
  {
   "cell_type": "code",
   "execution_count": 51,
   "metadata": {},
   "outputs": [
    {
     "data": {
      "application/vnd.jupyter.widget-view+json": {
       "model_id": "247bfe66d0ed4749a495ab1fd4cb4189",
       "version_major": 2,
       "version_minor": 0
      },
      "text/plain": [
       "Figure(layout=FigureLayout(height='420px'))"
      ]
     },
     "metadata": {},
     "output_type": "display_data"
    }
   ],
   "source": [
    "# Add a heatmap of temperature for the vacation spots.\n",
    "locations = hotel_df[[\"Lat\", \"Lng\"]]\n",
    "max_temp = hotel_df[\"Max Temp\"]\n",
    "fig = gmaps.figure(center=(30.0, 31.0), zoom_level=1.5)\n",
    "heat_layer = gmaps.heatmap_layer(locations, weights=max_temp, dissipating=False, max_intensity=300, point_radius=4)\n",
    "\n",
    "fig.add_layer(heat_layer)\n",
    "# Call the figure to plot the data.\n",
    "fig"
   ]
  },
  {
   "cell_type": "code",
   "execution_count": 69,
   "metadata": {},
   "outputs": [],
   "source": [
    "# Add a pop-up marker for each city that displays the hotel name, city name, country, and maximum temperature.\n",
    "# Add an info_box_template\n",
    "\n",
    "info_box_template = \"\"\"\n",
    "<dl>\n",
    "<dt>Hotel Name</dt><dd>{Hotel Name}</dd>\n",
    "<dt>City</dt><dd>{City}</dd>\n",
    "<dt>Country</dt><dd>{Country}</dd>\n",
    "<dt>Max Temp</dt><dd>{Max Temp} °F</dd>\n",
    "</dl>\n",
    "\"\"\"\n",
    "\n",
    "# Store the DataFrame Row.\n",
    "hotel_info = [info_box_template.format(**row) for index, row in hotel_df.iterrows()]"
   ]
  },
  {
   "cell_type": "code",
   "execution_count": 70,
   "metadata": {},
   "outputs": [
    {
     "data": {
      "application/vnd.jupyter.widget-view+json": {
       "model_id": "2e57926f6def47ed96fedfb32fed4d3a",
       "version_major": 2,
       "version_minor": 0
      },
      "text/plain": [
       "Figure(layout=FigureLayout(height='420px'))"
      ]
     },
     "metadata": {},
     "output_type": "display_data"
    }
   ],
   "source": [
    "## Syntax  for adding markers = gmaps.marker_layer(marker_locations, where the marker_locations are latitudes and longitudes.\n",
    "\n",
    "# Add a heatmap of temperature for the vacation spots and a pop-up marker for each city.\n",
    "locations = hotel_df[[\"Lat\", \"Lng\"]]\n",
    "max_temp = hotel_df[\"Max Temp\"]\n",
    "fig = gmaps.figure(center=(30.0, 31.0), zoom_level=1.5)\n",
    "heat_layer = gmaps.heatmap_layer(locations, weights=max_temp,dissipating=False,\n",
    "             max_intensity=300, point_radius=4)\n",
    "marker_layer = gmaps.marker_layer(locations, info_box_content=hotel_info)\n",
    "fig.add_layer(heat_layer)\n",
    "fig.add_layer(marker_layer)\n",
    "\n",
    "# Call the figure to plot the data.\n",
    "fig"
   ]
  },
  {
   "cell_type": "code",
   "execution_count": 68,
   "metadata": {},
   "outputs": [],
   "source": []
  }
 ],
 "metadata": {
  "kernelspec": {
   "display_name": "PythonData",
   "language": "python",
   "name": "pythondata"
  },
  "language_info": {
   "codemirror_mode": {
    "name": "ipython",
    "version": 3
   },
   "file_extension": ".py",
   "mimetype": "text/x-python",
   "name": "python",
   "nbconvert_exporter": "python",
   "pygments_lexer": "ipython3",
   "version": "3.6.9"
  }
 },
 "nbformat": 4,
 "nbformat_minor": 2
}
